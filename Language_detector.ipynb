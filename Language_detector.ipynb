{
  "nbformat": 4,
  "nbformat_minor": 0,
  "metadata": {
    "colab": {
      "provenance": []
    },
    "kernelspec": {
      "name": "python3",
      "display_name": "Python 3"
    },
    "language_info": {
      "name": "python"
    }
  },
  "cells": [
    {
      "cell_type": "code",
      "execution_count": null,
      "metadata": {
        "colab": {
          "base_uri": "https://localhost:8080/"
        },
        "id": "1RsIxBo8RLTs",
        "outputId": "7b63b78c-b65d-4e1a-fd26-91b5afc57e1e"
      },
      "outputs": [
        {
          "output_type": "stream",
          "name": "stdout",
          "text": [
            "--2022-11-17 13:43:11--  https://raw.githubusercontent.com/Ragzz258/my-datasets/main/lang/train1.csv\n",
            "Resolving raw.githubusercontent.com (raw.githubusercontent.com)... 185.199.108.133, 185.199.109.133, 185.199.110.133, ...\n",
            "Connecting to raw.githubusercontent.com (raw.githubusercontent.com)|185.199.108.133|:443... connected.\n",
            "HTTP request sent, awaiting response... 200 OK\n",
            "Length: 20196138 (19M) [text/plain]\n",
            "Saving to: ‘train1.csv’\n",
            "\n",
            "train1.csv          100%[===================>]  19.26M  --.-KB/s    in 0.1s    \n",
            "\n",
            "2022-11-17 13:43:13 (179 MB/s) - ‘train1.csv’ saved [20196138/20196138]\n",
            "\n",
            "--2022-11-17 13:43:13--  https://raw.githubusercontent.com/Ragzz258/my-datasets/main/lang/valid1.csv\n",
            "Resolving raw.githubusercontent.com (raw.githubusercontent.com)... 185.199.108.133, 185.199.109.133, 185.199.110.133, ...\n",
            "Connecting to raw.githubusercontent.com (raw.githubusercontent.com)|185.199.108.133|:443... connected.\n",
            "HTTP request sent, awaiting response... 200 OK\n",
            "Length: 198971 (194K) [text/plain]\n",
            "Saving to: ‘valid1.csv’\n",
            "\n",
            "valid1.csv          100%[===================>] 194.31K  --.-KB/s    in 0.01s   \n",
            "\n",
            "2022-11-17 13:43:13 (12.7 MB/s) - ‘valid1.csv’ saved [198971/198971]\n",
            "\n"
          ]
        }
      ],
      "source": [
        "!wget https://raw.githubusercontent.com/Ragzz258/my-datasets/main/lang/train1.csv\n",
        "!wget https://raw.githubusercontent.com/Ragzz258/my-datasets/main/lang/valid1.csv"
      ]
    },
    {
      "cell_type": "code",
      "source": [
        "!wget https://raw.githubusercontent.com/SunilGundapu/Word-Level-Language-Identification-in-English-Telugu-Code-Mixed-Data/master/Updated%20Code%20With%20Simple%20ML%20Models/LIDataset/CodemixedShuffle.txt"
      ],
      "metadata": {
        "colab": {
          "base_uri": "https://localhost:8080/"
        },
        "id": "gtdOlpgbAJrz",
        "outputId": "90991150-24f1-4689-aa4b-83c60583c084"
      },
      "execution_count": null,
      "outputs": [
        {
          "output_type": "stream",
          "name": "stdout",
          "text": [
            "--2022-11-17 13:43:13--  https://raw.githubusercontent.com/SunilGundapu/Word-Level-Language-Identification-in-English-Telugu-Code-Mixed-Data/master/Updated%20Code%20With%20Simple%20ML%20Models/LIDataset/CodemixedShuffle.txt\n",
            "Resolving raw.githubusercontent.com (raw.githubusercontent.com)... 185.199.108.133, 185.199.109.133, 185.199.110.133, ...\n",
            "Connecting to raw.githubusercontent.com (raw.githubusercontent.com)|185.199.108.133|:443... connected.\n",
            "HTTP request sent, awaiting response... 200 OK\n",
            "Length: 457801 (447K) [text/plain]\n",
            "Saving to: ‘CodemixedShuffle.txt’\n",
            "\n",
            "CodemixedShuffle.tx 100%[===================>] 447.07K  --.-KB/s    in 0.02s   \n",
            "\n",
            "2022-11-17 13:43:13 (19.0 MB/s) - ‘CodemixedShuffle.txt’ saved [457801/457801]\n",
            "\n"
          ]
        }
      ]
    },
    {
      "cell_type": "code",
      "source": [
        "import pandas as pd\n",
        "import numpy as np\n",
        "import re"
      ],
      "metadata": {
        "id": "SspLs6l8VSzK"
      },
      "execution_count": null,
      "outputs": []
    },
    {
      "cell_type": "code",
      "source": [
        "def cleanTxt(text):\n",
        " text = re.sub('@[A-Za-z0–9]+', '', text)\n",
        " text = re.sub('@', '', text)\n",
        " text = text.replace('_', '')\n",
        " text = text.replace('-', ' ')\n",
        " text = re.sub(':[A-Za-z0–9]+', '', text)\n",
        " text = text.replace(')', '')\n",
        " text = text.replace('(', '')\n",
        " text = re.sub('[0-9]', '', text)\n",
        " text = text.replace('?','')\n",
        " text = text.replace('.','')\n",
        " text = re.sub('#', '', text)\n",
        " text = re.sub('RT[\\s]+', '', text) \n",
        " text = re.sub('http\\S+', '', text)\n",
        " text = re.sub('/[A-Za-z0–9]+','', text)\n",
        " text = re.sub('/','', text)\n",
        " text = re.sub(\"'\",'', text)\n",
        " text = re.sub('\"','', text)\n",
        " return(text)"
      ],
      "metadata": {
        "id": "CYpFL7cxImK7"
      },
      "execution_count": null,
      "outputs": []
    },
    {
      "cell_type": "code",
      "source": [
        "Words = []\n",
        "LI_Tags = []\n",
        "POS_Tags = []\n",
        "Sent_ID = []\n",
        "\n",
        "count=1\n",
        "\n",
        "#Reading data file\n",
        "\n",
        "dataFile = open(\"CodemixedShuffle.txt\",\"r\")\n",
        "fileData = dataFile.readlines()\n",
        "for line in fileData:\n",
        "    line = cleanTxt(line)\n",
        "    a = line.split(\"\\t\")\n",
        "    if(len(a)==3):\n",
        "        Words.append(a[0].strip())\n",
        "        Sent_ID.append(count)\n",
        "    else:\n",
        "        count+=1\n",
        "        \n",
        "# Converting data file to data frame\n",
        "\n",
        "tdf = pd.DataFrame(list(zip(Sent_ID, Words)),\n",
        "               columns =['Sentence_No', 'Words'])\n",
        "        \n",
        "\n",
        "uni = tdf['Sentence_No'].unique()\n",
        "k =[]\n",
        "for i in uni:\n",
        "  a = tdf[tdf['Sentence_No']==i]['Words']\n",
        "  d = ' '.join(a)\n",
        "  k.append(d)\n",
        "\n",
        "te_df = pd.DataFrame()\n",
        "te_df['input'] = k\n",
        "te_df['lang'] = 'Telugu'\n",
        "\n",
        "te_df"
      ],
      "metadata": {
        "colab": {
          "base_uri": "https://localhost:8080/",
          "height": 424
        },
        "id": "s5D-cQZ1A4aO",
        "outputId": "34d434fd-f1b5-43b6-d2e2-75cd97e41b3c"
      },
      "execution_count": null,
      "outputs": [
        {
          "output_type": "execute_result",
          "data": {
            "text/plain": [
              "                                                  input    lang\n",
              "0                   Twood  We have craze in uzbekisthan  Telugu\n",
              "1     Manchu Manoj acting tho start cheddam  Imadhya...  Telugu\n",
              "2     panja flop ayinapudu pawan fans  flop lo mahes...  Telugu\n",
              "3                         Varanasi eppudu   twittercom   Telugu\n",
              "4      Adi ne number emo Eros vallu release chesaru ...  Telugu\n",
              "...                                                 ...     ...\n",
              "1982   Ikada oopiri adatledu baitiki tesukelu dialog...  Telugu\n",
              "1983   eppudu start chesavu  part time ah  pictwitte...  Telugu\n",
              "1984            neemokam cinema chusemokamena ra badcow  Telugu\n",
              "1985                            get ready mallu aunties  Telugu\n",
              "1986  Hahaha ccl ki asalina meaning bale define ches...  Telugu\n",
              "\n",
              "[1987 rows x 2 columns]"
            ],
            "text/html": [
              "\n",
              "  <div id=\"df-83f7dde5-ee15-46bf-a26c-537cbd9c35ab\">\n",
              "    <div class=\"colab-df-container\">\n",
              "      <div>\n",
              "<style scoped>\n",
              "    .dataframe tbody tr th:only-of-type {\n",
              "        vertical-align: middle;\n",
              "    }\n",
              "\n",
              "    .dataframe tbody tr th {\n",
              "        vertical-align: top;\n",
              "    }\n",
              "\n",
              "    .dataframe thead th {\n",
              "        text-align: right;\n",
              "    }\n",
              "</style>\n",
              "<table border=\"1\" class=\"dataframe\">\n",
              "  <thead>\n",
              "    <tr style=\"text-align: right;\">\n",
              "      <th></th>\n",
              "      <th>input</th>\n",
              "      <th>lang</th>\n",
              "    </tr>\n",
              "  </thead>\n",
              "  <tbody>\n",
              "    <tr>\n",
              "      <th>0</th>\n",
              "      <td>Twood  We have craze in uzbekisthan</td>\n",
              "      <td>Telugu</td>\n",
              "    </tr>\n",
              "    <tr>\n",
              "      <th>1</th>\n",
              "      <td>Manchu Manoj acting tho start cheddam  Imadhya...</td>\n",
              "      <td>Telugu</td>\n",
              "    </tr>\n",
              "    <tr>\n",
              "      <th>2</th>\n",
              "      <td>panja flop ayinapudu pawan fans  flop lo mahes...</td>\n",
              "      <td>Telugu</td>\n",
              "    </tr>\n",
              "    <tr>\n",
              "      <th>3</th>\n",
              "      <td>Varanasi eppudu   twittercom</td>\n",
              "      <td>Telugu</td>\n",
              "    </tr>\n",
              "    <tr>\n",
              "      <th>4</th>\n",
              "      <td>Adi ne number emo Eros vallu release chesaru ...</td>\n",
              "      <td>Telugu</td>\n",
              "    </tr>\n",
              "    <tr>\n",
              "      <th>...</th>\n",
              "      <td>...</td>\n",
              "      <td>...</td>\n",
              "    </tr>\n",
              "    <tr>\n",
              "      <th>1982</th>\n",
              "      <td>Ikada oopiri adatledu baitiki tesukelu dialog...</td>\n",
              "      <td>Telugu</td>\n",
              "    </tr>\n",
              "    <tr>\n",
              "      <th>1983</th>\n",
              "      <td>eppudu start chesavu  part time ah  pictwitte...</td>\n",
              "      <td>Telugu</td>\n",
              "    </tr>\n",
              "    <tr>\n",
              "      <th>1984</th>\n",
              "      <td>neemokam cinema chusemokamena ra badcow</td>\n",
              "      <td>Telugu</td>\n",
              "    </tr>\n",
              "    <tr>\n",
              "      <th>1985</th>\n",
              "      <td>get ready mallu aunties</td>\n",
              "      <td>Telugu</td>\n",
              "    </tr>\n",
              "    <tr>\n",
              "      <th>1986</th>\n",
              "      <td>Hahaha ccl ki asalina meaning bale define ches...</td>\n",
              "      <td>Telugu</td>\n",
              "    </tr>\n",
              "  </tbody>\n",
              "</table>\n",
              "<p>1987 rows × 2 columns</p>\n",
              "</div>\n",
              "      <button class=\"colab-df-convert\" onclick=\"convertToInteractive('df-83f7dde5-ee15-46bf-a26c-537cbd9c35ab')\"\n",
              "              title=\"Convert this dataframe to an interactive table.\"\n",
              "              style=\"display:none;\">\n",
              "        \n",
              "  <svg xmlns=\"http://www.w3.org/2000/svg\" height=\"24px\"viewBox=\"0 0 24 24\"\n",
              "       width=\"24px\">\n",
              "    <path d=\"M0 0h24v24H0V0z\" fill=\"none\"/>\n",
              "    <path d=\"M18.56 5.44l.94 2.06.94-2.06 2.06-.94-2.06-.94-.94-2.06-.94 2.06-2.06.94zm-11 1L8.5 8.5l.94-2.06 2.06-.94-2.06-.94L8.5 2.5l-.94 2.06-2.06.94zm10 10l.94 2.06.94-2.06 2.06-.94-2.06-.94-.94-2.06-.94 2.06-2.06.94z\"/><path d=\"M17.41 7.96l-1.37-1.37c-.4-.4-.92-.59-1.43-.59-.52 0-1.04.2-1.43.59L10.3 9.45l-7.72 7.72c-.78.78-.78 2.05 0 2.83L4 21.41c.39.39.9.59 1.41.59.51 0 1.02-.2 1.41-.59l7.78-7.78 2.81-2.81c.8-.78.8-2.07 0-2.86zM5.41 20L4 18.59l7.72-7.72 1.47 1.35L5.41 20z\"/>\n",
              "  </svg>\n",
              "      </button>\n",
              "      \n",
              "  <style>\n",
              "    .colab-df-container {\n",
              "      display:flex;\n",
              "      flex-wrap:wrap;\n",
              "      gap: 12px;\n",
              "    }\n",
              "\n",
              "    .colab-df-convert {\n",
              "      background-color: #E8F0FE;\n",
              "      border: none;\n",
              "      border-radius: 50%;\n",
              "      cursor: pointer;\n",
              "      display: none;\n",
              "      fill: #1967D2;\n",
              "      height: 32px;\n",
              "      padding: 0 0 0 0;\n",
              "      width: 32px;\n",
              "    }\n",
              "\n",
              "    .colab-df-convert:hover {\n",
              "      background-color: #E2EBFA;\n",
              "      box-shadow: 0px 1px 2px rgba(60, 64, 67, 0.3), 0px 1px 3px 1px rgba(60, 64, 67, 0.15);\n",
              "      fill: #174EA6;\n",
              "    }\n",
              "\n",
              "    [theme=dark] .colab-df-convert {\n",
              "      background-color: #3B4455;\n",
              "      fill: #D2E3FC;\n",
              "    }\n",
              "\n",
              "    [theme=dark] .colab-df-convert:hover {\n",
              "      background-color: #434B5C;\n",
              "      box-shadow: 0px 1px 3px 1px rgba(0, 0, 0, 0.15);\n",
              "      filter: drop-shadow(0px 1px 2px rgba(0, 0, 0, 0.3));\n",
              "      fill: #FFFFFF;\n",
              "    }\n",
              "  </style>\n",
              "\n",
              "      <script>\n",
              "        const buttonEl =\n",
              "          document.querySelector('#df-83f7dde5-ee15-46bf-a26c-537cbd9c35ab button.colab-df-convert');\n",
              "        buttonEl.style.display =\n",
              "          google.colab.kernel.accessAllowed ? 'block' : 'none';\n",
              "\n",
              "        async function convertToInteractive(key) {\n",
              "          const element = document.querySelector('#df-83f7dde5-ee15-46bf-a26c-537cbd9c35ab');\n",
              "          const dataTable =\n",
              "            await google.colab.kernel.invokeFunction('convertToInteractive',\n",
              "                                                     [key], {});\n",
              "          if (!dataTable) return;\n",
              "\n",
              "          const docLinkHtml = 'Like what you see? Visit the ' +\n",
              "            '<a target=\"_blank\" href=https://colab.research.google.com/notebooks/data_table.ipynb>data table notebook</a>'\n",
              "            + ' to learn more about interactive tables.';\n",
              "          element.innerHTML = '';\n",
              "          dataTable['output_type'] = 'display_data';\n",
              "          await google.colab.output.renderOutput(dataTable, element);\n",
              "          const docLink = document.createElement('div');\n",
              "          docLink.innerHTML = docLinkHtml;\n",
              "          element.appendChild(docLink);\n",
              "        }\n",
              "      </script>\n",
              "    </div>\n",
              "  </div>\n",
              "  "
            ]
          },
          "metadata": {},
          "execution_count": 5
        }
      ]
    },
    {
      "cell_type": "markdown",
      "source": [
        "lets take 75 percent for train and remaining for test"
      ],
      "metadata": {
        "id": "Q-dOcNgcdtYD"
      }
    },
    {
      "cell_type": "code",
      "source": [
        "n = int(len(te_df)*0.9)\n",
        "n"
      ],
      "metadata": {
        "colab": {
          "base_uri": "https://localhost:8080/"
        },
        "id": "QSUKpJZ_dskQ",
        "outputId": "681a265c-5783-4aac-e7ad-f35c1ed22ed3"
      },
      "execution_count": null,
      "outputs": [
        {
          "output_type": "execute_result",
          "data": {
            "text/plain": [
              "1788"
            ]
          },
          "metadata": {},
          "execution_count": 6
        }
      ]
    },
    {
      "cell_type": "code",
      "source": [
        "tr_te_df = te_df[:n]\n",
        "te_te_df = te_df[n:]"
      ],
      "metadata": {
        "id": "eKJaI6qOGSDp"
      },
      "execution_count": null,
      "outputs": []
    },
    {
      "cell_type": "code",
      "source": [
        "df = pd.read_csv('train1.csv')"
      ],
      "metadata": {
        "id": "2r6McyV8XoTW"
      },
      "execution_count": null,
      "outputs": []
    },
    {
      "cell_type": "code",
      "source": [
        "dff = df[['input','lang']]"
      ],
      "metadata": {
        "id": "Z3x8-H_YV6Fr"
      },
      "execution_count": null,
      "outputs": []
    },
    {
      "cell_type": "markdown",
      "source": [
        "removing telugu and tamil as in dataset theyre in some other language not telugu or tamil but labeled telugu,tamil"
      ],
      "metadata": {
        "id": "7yG4AK21yHjA"
      }
    },
    {
      "cell_type": "code",
      "source": [
        "dff.where(dff[\"lang\"]!=\"Telegu\",inplace = True)"
      ],
      "metadata": {
        "colab": {
          "base_uri": "https://localhost:8080/"
        },
        "id": "Bnh9qTClwxNt",
        "outputId": "5dd97943-1d76-4229-eb5c-9e0c7238821f"
      },
      "execution_count": null,
      "outputs": [
        {
          "output_type": "stream",
          "name": "stderr",
          "text": [
            "/usr/local/lib/python3.7/dist-packages/pandas/core/generic.py:9032: SettingWithCopyWarning: \n",
            "A value is trying to be set on a copy of a slice from a DataFrame\n",
            "\n",
            "See the caveats in the documentation: https://pandas.pydata.org/pandas-docs/stable/user_guide/indexing.html#returning-a-view-versus-a-copy\n",
            "  return self._where(cond, other, inplace, axis, level, errors=errors)\n"
          ]
        }
      ]
    },
    {
      "cell_type": "code",
      "source": [
        "dff.where(dff[\"lang\"]!=\"Tamil\",inplace = True)"
      ],
      "metadata": {
        "id": "vVkCUEDrbb0z"
      },
      "execution_count": null,
      "outputs": []
    },
    {
      "cell_type": "code",
      "source": [
        "dff = dff.dropna()"
      ],
      "metadata": {
        "id": "spREQ_eZXJZs"
      },
      "execution_count": null,
      "outputs": []
    },
    {
      "cell_type": "code",
      "source": [
        "dff.head()"
      ],
      "metadata": {
        "colab": {
          "base_uri": "https://localhost:8080/",
          "height": 206
        },
        "id": "e_yuu40GWgpE",
        "outputId": "7c3d5c88-58ef-49de-8a55-c1bc58e66d86"
      },
      "execution_count": null,
      "outputs": [
        {
          "output_type": "execute_result",
          "data": {
            "text/plain": [
              "                                               input     lang\n",
              "0          beriliyam oxaid ek akaarbanik yaugik hai.    Hindi\n",
              "1  San.1870 ralli Bohra purohitara viruddha maadi...  Kannada\n",
              "2  Dnyaneshwaranchya kalat mhanje 12vya shatakat ...  Marathi\n",
              "3  Giniyiligalu tamma panjaragalalli galeeju maad...  Kannada\n",
              "4  Udaaharanege George Lucas avara star wars na t...  Kannada"
            ],
            "text/html": [
              "\n",
              "  <div id=\"df-95679171-539c-4170-bd77-df79346c86d1\">\n",
              "    <div class=\"colab-df-container\">\n",
              "      <div>\n",
              "<style scoped>\n",
              "    .dataframe tbody tr th:only-of-type {\n",
              "        vertical-align: middle;\n",
              "    }\n",
              "\n",
              "    .dataframe tbody tr th {\n",
              "        vertical-align: top;\n",
              "    }\n",
              "\n",
              "    .dataframe thead th {\n",
              "        text-align: right;\n",
              "    }\n",
              "</style>\n",
              "<table border=\"1\" class=\"dataframe\">\n",
              "  <thead>\n",
              "    <tr style=\"text-align: right;\">\n",
              "      <th></th>\n",
              "      <th>input</th>\n",
              "      <th>lang</th>\n",
              "    </tr>\n",
              "  </thead>\n",
              "  <tbody>\n",
              "    <tr>\n",
              "      <th>0</th>\n",
              "      <td>beriliyam oxaid ek akaarbanik yaugik hai.</td>\n",
              "      <td>Hindi</td>\n",
              "    </tr>\n",
              "    <tr>\n",
              "      <th>1</th>\n",
              "      <td>San.1870 ralli Bohra purohitara viruddha maadi...</td>\n",
              "      <td>Kannada</td>\n",
              "    </tr>\n",
              "    <tr>\n",
              "      <th>2</th>\n",
              "      <td>Dnyaneshwaranchya kalat mhanje 12vya shatakat ...</td>\n",
              "      <td>Marathi</td>\n",
              "    </tr>\n",
              "    <tr>\n",
              "      <th>3</th>\n",
              "      <td>Giniyiligalu tamma panjaragalalli galeeju maad...</td>\n",
              "      <td>Kannada</td>\n",
              "    </tr>\n",
              "    <tr>\n",
              "      <th>4</th>\n",
              "      <td>Udaaharanege George Lucas avara star wars na t...</td>\n",
              "      <td>Kannada</td>\n",
              "    </tr>\n",
              "  </tbody>\n",
              "</table>\n",
              "</div>\n",
              "      <button class=\"colab-df-convert\" onclick=\"convertToInteractive('df-95679171-539c-4170-bd77-df79346c86d1')\"\n",
              "              title=\"Convert this dataframe to an interactive table.\"\n",
              "              style=\"display:none;\">\n",
              "        \n",
              "  <svg xmlns=\"http://www.w3.org/2000/svg\" height=\"24px\"viewBox=\"0 0 24 24\"\n",
              "       width=\"24px\">\n",
              "    <path d=\"M0 0h24v24H0V0z\" fill=\"none\"/>\n",
              "    <path d=\"M18.56 5.44l.94 2.06.94-2.06 2.06-.94-2.06-.94-.94-2.06-.94 2.06-2.06.94zm-11 1L8.5 8.5l.94-2.06 2.06-.94-2.06-.94L8.5 2.5l-.94 2.06-2.06.94zm10 10l.94 2.06.94-2.06 2.06-.94-2.06-.94-.94-2.06-.94 2.06-2.06.94z\"/><path d=\"M17.41 7.96l-1.37-1.37c-.4-.4-.92-.59-1.43-.59-.52 0-1.04.2-1.43.59L10.3 9.45l-7.72 7.72c-.78.78-.78 2.05 0 2.83L4 21.41c.39.39.9.59 1.41.59.51 0 1.02-.2 1.41-.59l7.78-7.78 2.81-2.81c.8-.78.8-2.07 0-2.86zM5.41 20L4 18.59l7.72-7.72 1.47 1.35L5.41 20z\"/>\n",
              "  </svg>\n",
              "      </button>\n",
              "      \n",
              "  <style>\n",
              "    .colab-df-container {\n",
              "      display:flex;\n",
              "      flex-wrap:wrap;\n",
              "      gap: 12px;\n",
              "    }\n",
              "\n",
              "    .colab-df-convert {\n",
              "      background-color: #E8F0FE;\n",
              "      border: none;\n",
              "      border-radius: 50%;\n",
              "      cursor: pointer;\n",
              "      display: none;\n",
              "      fill: #1967D2;\n",
              "      height: 32px;\n",
              "      padding: 0 0 0 0;\n",
              "      width: 32px;\n",
              "    }\n",
              "\n",
              "    .colab-df-convert:hover {\n",
              "      background-color: #E2EBFA;\n",
              "      box-shadow: 0px 1px 2px rgba(60, 64, 67, 0.3), 0px 1px 3px 1px rgba(60, 64, 67, 0.15);\n",
              "      fill: #174EA6;\n",
              "    }\n",
              "\n",
              "    [theme=dark] .colab-df-convert {\n",
              "      background-color: #3B4455;\n",
              "      fill: #D2E3FC;\n",
              "    }\n",
              "\n",
              "    [theme=dark] .colab-df-convert:hover {\n",
              "      background-color: #434B5C;\n",
              "      box-shadow: 0px 1px 3px 1px rgba(0, 0, 0, 0.15);\n",
              "      filter: drop-shadow(0px 1px 2px rgba(0, 0, 0, 0.3));\n",
              "      fill: #FFFFFF;\n",
              "    }\n",
              "  </style>\n",
              "\n",
              "      <script>\n",
              "        const buttonEl =\n",
              "          document.querySelector('#df-95679171-539c-4170-bd77-df79346c86d1 button.colab-df-convert');\n",
              "        buttonEl.style.display =\n",
              "          google.colab.kernel.accessAllowed ? 'block' : 'none';\n",
              "\n",
              "        async function convertToInteractive(key) {\n",
              "          const element = document.querySelector('#df-95679171-539c-4170-bd77-df79346c86d1');\n",
              "          const dataTable =\n",
              "            await google.colab.kernel.invokeFunction('convertToInteractive',\n",
              "                                                     [key], {});\n",
              "          if (!dataTable) return;\n",
              "\n",
              "          const docLinkHtml = 'Like what you see? Visit the ' +\n",
              "            '<a target=\"_blank\" href=https://colab.research.google.com/notebooks/data_table.ipynb>data table notebook</a>'\n",
              "            + ' to learn more about interactive tables.';\n",
              "          element.innerHTML = '';\n",
              "          dataTable['output_type'] = 'display_data';\n",
              "          await google.colab.output.renderOutput(dataTable, element);\n",
              "          const docLink = document.createElement('div');\n",
              "          docLink.innerHTML = docLinkHtml;\n",
              "          element.appendChild(docLink);\n",
              "        }\n",
              "      </script>\n",
              "    </div>\n",
              "  </div>\n",
              "  "
            ]
          },
          "metadata": {},
          "execution_count": 13
        }
      ]
    },
    {
      "cell_type": "code",
      "source": [
        "dff['lang'].unique()"
      ],
      "metadata": {
        "colab": {
          "base_uri": "https://localhost:8080/"
        },
        "id": "hGsHQJ1vZBnG",
        "outputId": "6bf78f71-99e6-4ea2-a505-894affc5e344"
      },
      "execution_count": null,
      "outputs": [
        {
          "output_type": "execute_result",
          "data": {
            "text/plain": [
              "array(['Hindi', 'Kannada', 'Marathi', 'Bengali'], dtype=object)"
            ]
          },
          "metadata": {},
          "execution_count": 14
        }
      ]
    },
    {
      "cell_type": "markdown",
      "source": [
        "adding correct telugu dataset"
      ],
      "metadata": {
        "id": "fkD-A_GJZI3l"
      }
    },
    {
      "cell_type": "code",
      "source": [
        "dff1 = pd.concat([tr_te_df,dff],axis = 0)"
      ],
      "metadata": {
        "id": "jaPza8uhVE7_"
      },
      "execution_count": null,
      "outputs": []
    },
    {
      "cell_type": "code",
      "source": [
        "df1 = dff1.sample(frac=1, random_state=1)\n",
        "df1 = df1.reset_index()\n",
        "df1 = df1.drop(\"index\",axis = 1)\n",
        "df1"
      ],
      "metadata": {
        "colab": {
          "base_uri": "https://localhost:8080/",
          "height": 424
        },
        "id": "z5WqZkXJZTJn",
        "outputId": "82cf2a73-3612-4e1f-dae2-96d93e76e18c"
      },
      "execution_count": null,
      "outputs": [
        {
          "output_type": "execute_result",
          "data": {
            "text/plain": [
              "                                                   input     lang\n",
              "0      Owen Lee Hargreaves (jonmo 20 January 1981, Al...  Bengali\n",
              "1        mb  ki ee class audience entha baaga hand ic...   Telugu\n",
              "2      Sisira rituvina magha masada krsnapaksa caturd...  Kannada\n",
              "3      protivaban swagotik springbokderke 1-0 babodha...  Bengali\n",
              "4      me senapati Fan Ven ne sinhaasan par adhikar k...    Hindi\n",
              "...                                                  ...      ...\n",
              "43408  Pholshruti-te jatiyo dol-e khelar jonyo tini a...  Bengali\n",
              "43409  Jayindravarman ashtam ke rajya mein Shri Surya...    Hindi\n",
              "43410  1991 saaler Novembere tatkalin roosh rastrapat...  Bengali\n",
              "43411  Bangladesh sarkar 2009 saale jatiyo paribesh p...  Bengali\n",
              "43412                          Bharatiya Budha Mahasabha  Marathi\n",
              "\n",
              "[43413 rows x 2 columns]"
            ],
            "text/html": [
              "\n",
              "  <div id=\"df-bf4af9d7-a79b-4581-953c-73275bfe131e\">\n",
              "    <div class=\"colab-df-container\">\n",
              "      <div>\n",
              "<style scoped>\n",
              "    .dataframe tbody tr th:only-of-type {\n",
              "        vertical-align: middle;\n",
              "    }\n",
              "\n",
              "    .dataframe tbody tr th {\n",
              "        vertical-align: top;\n",
              "    }\n",
              "\n",
              "    .dataframe thead th {\n",
              "        text-align: right;\n",
              "    }\n",
              "</style>\n",
              "<table border=\"1\" class=\"dataframe\">\n",
              "  <thead>\n",
              "    <tr style=\"text-align: right;\">\n",
              "      <th></th>\n",
              "      <th>input</th>\n",
              "      <th>lang</th>\n",
              "    </tr>\n",
              "  </thead>\n",
              "  <tbody>\n",
              "    <tr>\n",
              "      <th>0</th>\n",
              "      <td>Owen Lee Hargreaves (jonmo 20 January 1981, Al...</td>\n",
              "      <td>Bengali</td>\n",
              "    </tr>\n",
              "    <tr>\n",
              "      <th>1</th>\n",
              "      <td>mb  ki ee class audience entha baaga hand ic...</td>\n",
              "      <td>Telugu</td>\n",
              "    </tr>\n",
              "    <tr>\n",
              "      <th>2</th>\n",
              "      <td>Sisira rituvina magha masada krsnapaksa caturd...</td>\n",
              "      <td>Kannada</td>\n",
              "    </tr>\n",
              "    <tr>\n",
              "      <th>3</th>\n",
              "      <td>protivaban swagotik springbokderke 1-0 babodha...</td>\n",
              "      <td>Bengali</td>\n",
              "    </tr>\n",
              "    <tr>\n",
              "      <th>4</th>\n",
              "      <td>me senapati Fan Ven ne sinhaasan par adhikar k...</td>\n",
              "      <td>Hindi</td>\n",
              "    </tr>\n",
              "    <tr>\n",
              "      <th>...</th>\n",
              "      <td>...</td>\n",
              "      <td>...</td>\n",
              "    </tr>\n",
              "    <tr>\n",
              "      <th>43408</th>\n",
              "      <td>Pholshruti-te jatiyo dol-e khelar jonyo tini a...</td>\n",
              "      <td>Bengali</td>\n",
              "    </tr>\n",
              "    <tr>\n",
              "      <th>43409</th>\n",
              "      <td>Jayindravarman ashtam ke rajya mein Shri Surya...</td>\n",
              "      <td>Hindi</td>\n",
              "    </tr>\n",
              "    <tr>\n",
              "      <th>43410</th>\n",
              "      <td>1991 saaler Novembere tatkalin roosh rastrapat...</td>\n",
              "      <td>Bengali</td>\n",
              "    </tr>\n",
              "    <tr>\n",
              "      <th>43411</th>\n",
              "      <td>Bangladesh sarkar 2009 saale jatiyo paribesh p...</td>\n",
              "      <td>Bengali</td>\n",
              "    </tr>\n",
              "    <tr>\n",
              "      <th>43412</th>\n",
              "      <td>Bharatiya Budha Mahasabha</td>\n",
              "      <td>Marathi</td>\n",
              "    </tr>\n",
              "  </tbody>\n",
              "</table>\n",
              "<p>43413 rows × 2 columns</p>\n",
              "</div>\n",
              "      <button class=\"colab-df-convert\" onclick=\"convertToInteractive('df-bf4af9d7-a79b-4581-953c-73275bfe131e')\"\n",
              "              title=\"Convert this dataframe to an interactive table.\"\n",
              "              style=\"display:none;\">\n",
              "        \n",
              "  <svg xmlns=\"http://www.w3.org/2000/svg\" height=\"24px\"viewBox=\"0 0 24 24\"\n",
              "       width=\"24px\">\n",
              "    <path d=\"M0 0h24v24H0V0z\" fill=\"none\"/>\n",
              "    <path d=\"M18.56 5.44l.94 2.06.94-2.06 2.06-.94-2.06-.94-.94-2.06-.94 2.06-2.06.94zm-11 1L8.5 8.5l.94-2.06 2.06-.94-2.06-.94L8.5 2.5l-.94 2.06-2.06.94zm10 10l.94 2.06.94-2.06 2.06-.94-2.06-.94-.94-2.06-.94 2.06-2.06.94z\"/><path d=\"M17.41 7.96l-1.37-1.37c-.4-.4-.92-.59-1.43-.59-.52 0-1.04.2-1.43.59L10.3 9.45l-7.72 7.72c-.78.78-.78 2.05 0 2.83L4 21.41c.39.39.9.59 1.41.59.51 0 1.02-.2 1.41-.59l7.78-7.78 2.81-2.81c.8-.78.8-2.07 0-2.86zM5.41 20L4 18.59l7.72-7.72 1.47 1.35L5.41 20z\"/>\n",
              "  </svg>\n",
              "      </button>\n",
              "      \n",
              "  <style>\n",
              "    .colab-df-container {\n",
              "      display:flex;\n",
              "      flex-wrap:wrap;\n",
              "      gap: 12px;\n",
              "    }\n",
              "\n",
              "    .colab-df-convert {\n",
              "      background-color: #E8F0FE;\n",
              "      border: none;\n",
              "      border-radius: 50%;\n",
              "      cursor: pointer;\n",
              "      display: none;\n",
              "      fill: #1967D2;\n",
              "      height: 32px;\n",
              "      padding: 0 0 0 0;\n",
              "      width: 32px;\n",
              "    }\n",
              "\n",
              "    .colab-df-convert:hover {\n",
              "      background-color: #E2EBFA;\n",
              "      box-shadow: 0px 1px 2px rgba(60, 64, 67, 0.3), 0px 1px 3px 1px rgba(60, 64, 67, 0.15);\n",
              "      fill: #174EA6;\n",
              "    }\n",
              "\n",
              "    [theme=dark] .colab-df-convert {\n",
              "      background-color: #3B4455;\n",
              "      fill: #D2E3FC;\n",
              "    }\n",
              "\n",
              "    [theme=dark] .colab-df-convert:hover {\n",
              "      background-color: #434B5C;\n",
              "      box-shadow: 0px 1px 3px 1px rgba(0, 0, 0, 0.15);\n",
              "      filter: drop-shadow(0px 1px 2px rgba(0, 0, 0, 0.3));\n",
              "      fill: #FFFFFF;\n",
              "    }\n",
              "  </style>\n",
              "\n",
              "      <script>\n",
              "        const buttonEl =\n",
              "          document.querySelector('#df-bf4af9d7-a79b-4581-953c-73275bfe131e button.colab-df-convert');\n",
              "        buttonEl.style.display =\n",
              "          google.colab.kernel.accessAllowed ? 'block' : 'none';\n",
              "\n",
              "        async function convertToInteractive(key) {\n",
              "          const element = document.querySelector('#df-bf4af9d7-a79b-4581-953c-73275bfe131e');\n",
              "          const dataTable =\n",
              "            await google.colab.kernel.invokeFunction('convertToInteractive',\n",
              "                                                     [key], {});\n",
              "          if (!dataTable) return;\n",
              "\n",
              "          const docLinkHtml = 'Like what you see? Visit the ' +\n",
              "            '<a target=\"_blank\" href=https://colab.research.google.com/notebooks/data_table.ipynb>data table notebook</a>'\n",
              "            + ' to learn more about interactive tables.';\n",
              "          element.innerHTML = '';\n",
              "          dataTable['output_type'] = 'display_data';\n",
              "          await google.colab.output.renderOutput(dataTable, element);\n",
              "          const docLink = document.createElement('div');\n",
              "          docLink.innerHTML = docLinkHtml;\n",
              "          element.appendChild(docLink);\n",
              "        }\n",
              "      </script>\n",
              "    </div>\n",
              "  </div>\n",
              "  "
            ]
          },
          "metadata": {},
          "execution_count": 16
        }
      ]
    },
    {
      "cell_type": "code",
      "source": [
        "df1['lang'].unique()"
      ],
      "metadata": {
        "colab": {
          "base_uri": "https://localhost:8080/"
        },
        "id": "fxRUCphjbn3C",
        "outputId": "574e08b2-b508-4931-9b5f-93fa0d832c45"
      },
      "execution_count": null,
      "outputs": [
        {
          "output_type": "execute_result",
          "data": {
            "text/plain": [
              "array(['Bengali', 'Telugu', 'Kannada', 'Hindi', 'Marathi'], dtype=object)"
            ]
          },
          "metadata": {},
          "execution_count": 17
        }
      ]
    },
    {
      "cell_type": "code",
      "source": [
        "def normalize_text(row):\n",
        "    \n",
        "    label = '__label__' + str(row['lang'])\n",
        "    txt = str(row['input'])\n",
        "    \n",
        "    return ' '.join(( label + ' , ' + txt ).split())"
      ],
      "metadata": {
        "id": "vVb0gGvBWjBx"
      },
      "execution_count": null,
      "outputs": []
    },
    {
      "cell_type": "code",
      "source": [
        "df1['normalized'] = df1.apply( lambda row: normalize_text(row), axis=1 )"
      ],
      "metadata": {
        "id": "X_3sZEvUWygb"
      },
      "execution_count": null,
      "outputs": []
    },
    {
      "cell_type": "code",
      "source": [
        "df1.columns"
      ],
      "metadata": {
        "colab": {
          "base_uri": "https://localhost:8080/"
        },
        "id": "dA2NHiKCw4v4",
        "outputId": "ff82d53b-242f-4755-d0d8-42255c7ec672"
      },
      "execution_count": null,
      "outputs": [
        {
          "output_type": "execute_result",
          "data": {
            "text/plain": [
              "Index(['input', 'lang', 'normalized'], dtype='object')"
            ]
          },
          "metadata": {},
          "execution_count": 20
        }
      ]
    },
    {
      "cell_type": "code",
      "source": [
        "df1.head(50)"
      ],
      "metadata": {
        "colab": {
          "base_uri": "https://localhost:8080/",
          "height": 1000
        },
        "id": "yVtcvC7Wyj_7",
        "outputId": "3d6febaa-26ae-4680-cfe8-ce6d84d3ba36"
      },
      "execution_count": null,
      "outputs": [
        {
          "output_type": "execute_result",
          "data": {
            "text/plain": [
              "                                                input     lang  \\\n",
              "0   Owen Lee Hargreaves (jonmo 20 January 1981, Al...  Bengali   \n",
              "1     mb  ki ee class audience entha baaga hand ic...   Telugu   \n",
              "2   Sisira rituvina magha masada krsnapaksa caturd...  Kannada   \n",
              "3   protivaban swagotik springbokderke 1-0 babodha...  Bengali   \n",
              "4   me senapati Fan Ven ne sinhaasan par adhikar k...    Hindi   \n",
              "5   samuh se tatparya panthik ya bhashayi alpsankh...    Hindi   \n",
              "6                                       ulumege beku.  Kannada   \n",
              "7   1995 saali Uttar Pradesh rajyatil nivadnuka ji...  Marathi   \n",
              "8                                   Mohilader Cricket  Bengali   \n",
              "9                  kruntak (artha: kurtadkhor praani)  Marathi   \n",
              "10                                  gatij urja karak:  Marathi   \n",
              "11  Baytu ek Rajasthan ke Barmer jile ki ek tahasi...    Hindi   \n",
              "12                                              Fixed    Hindi   \n",
              "13  Thalak tipa aani tejasavi paan pardarshi saai ...  Marathi   \n",
              "14  vayachya saatvya varshanpasun Ashok Samel yann...  Marathi   \n",
              "15  Prativarsh ghatit hone wali is khagoliy mahatw...    Hindi   \n",
              "16  Illi gypsum, sunnakallu, graphite, taamra, dol...  Kannada   \n",
              "17  un‍hone apne career ke dauraan ek chaval ki 19...    Hindi   \n",
              "18                                             anthya  Kannada   \n",
              "19  Kintu erpor thekei tar boli besh durbol hote t...  Bengali   \n",
              "20  Jekhanei mohilara sekhanei tara boi bikri kora...  Bengali   \n",
              "21   ni bonda le  appatiki ippatiki Eppatiki  fan ...   Telugu   \n",
              "22  Madhya Pradeshatil pashuvaidyakiya vidyapithan...  Marathi   \n",
              "23  Tanna yauvanakaaladindalu Mountbaton‌‌nige bah...  Kannada   \n",
              "24  Masaachusetsna fraaminghamnalli pradhaana kaar...  Kannada   \n",
              "25          Er purbo pashe Bharot-Bangladesh simanto.  Bengali   \n",
              "26  data ko labhkari mante hai, lekin is tarah ke ...    Hindi   \n",
              "27             chi vaidyakiya pariksha uttirna zalya.  Marathi   \n",
              "28  babu admin st half baagundhi  that interval fi...   Telugu   \n",
              "29       ek aatankvaadi ko dandit kiyan jana chahiye.    Hindi   \n",
              "30  Tini biswavidyaloia sahitto, shongbadhikota eb...  Bengali   \n",
              "31  A kaajti korar jonne ghono mul neyar proyojon ...  Bengali   \n",
              "32  Yanantar tin kinva char charan swar ani sahity...  Marathi   \n",
              "33  viyena dokholer porpori soviyet soinyora shoho...  Bengali   \n",
              "34  britannalli udbhavisida prathama jatila kaigaa...  Kannada   \n",
              "35  Aarogya mattu kshemarakshana kaayidegala chari...  Kannada   \n",
              "36  akravi uttirna kelyavar Manoj Pande Kendriya L...  Marathi   \n",
              "37  Onyotomo ullekhjogyo ghotona holo, bank-ti gaz...  Bengali   \n",
              "38  Tathapi, onek desh, jemon -Sweden, Switzerland...  Bengali   \n",
              "39  Tobe bortomane ei stadiume Football beshi khel...  Bengali   \n",
              "40                            Rijudar songe sufokor-e  Bengali   \n",
              "41  kala me aam taur par dikhai dene vale iksinge ...    Hindi   \n",
              "42  dharm se ise alag karte huye kiya hai, jinhen ...    Hindi   \n",
              "43  teravad bauddho dvara 6thi shatabdi me banaya ...    Hindi   \n",
              "44   NTR voice vinadani kae pataas muvi ki vellaaa...   Telugu   \n",
              "45  Navya gajhalkarankadun aashvasak lekhan (marat...  Marathi   \n",
              "46      Samudradalli siguva meenu muntaada praanigalu  Kannada   \n",
              "47              Aundha Nagnath talukyatil kahi gaave.  Marathi   \n",
              "48  THE CBSI indu americada pavithra hegguruthaagide.  Kannada   \n",
              "49  Harshanandaji, Swami Uddavanandaji, Swami Jaga...  Kannada   \n",
              "\n",
              "                                           normalized  \n",
              "0   __label__Bengali , Owen Lee Hargreaves (jonmo ...  \n",
              "1   __label__Telugu , mb ki ee class audience enth...  \n",
              "2   __label__Kannada , Sisira rituvina magha masad...  \n",
              "3   __label__Bengali , protivaban swagotik springb...  \n",
              "4   __label__Hindi , me senapati Fan Ven ne sinhaa...  \n",
              "5   __label__Hindi , samuh se tatparya panthik ya ...  \n",
              "6                    __label__Kannada , ulumege beku.  \n",
              "7   __label__Marathi , 1995 saali Uttar Pradesh ra...  \n",
              "8                __label__Bengali , Mohilader Cricket  \n",
              "9   __label__Marathi , kruntak (artha: kurtadkhor ...  \n",
              "10               __label__Marathi , gatij urja karak:  \n",
              "11  __label__Hindi , Baytu ek Rajasthan ke Barmer ...  \n",
              "12                             __label__Hindi , Fixed  \n",
              "13  __label__Marathi , Thalak tipa aani tejasavi p...  \n",
              "14  __label__Marathi , vayachya saatvya varshanpas...  \n",
              "15  __label__Hindi , Prativarsh ghatit hone wali i...  \n",
              "16  __label__Kannada , Illi gypsum, sunnakallu, gr...  \n",
              "17  __label__Hindi , un‍hone apne career ke dauraa...  \n",
              "18                          __label__Kannada , anthya  \n",
              "19  __label__Bengali , Kintu erpor thekei tar boli...  \n",
              "20  __label__Bengali , Jekhanei mohilara sekhanei ...  \n",
              "21  __label__Telugu , ni bonda le appatiki ippatik...  \n",
              "22  __label__Marathi , Madhya Pradeshatil pashuvai...  \n",
              "23  __label__Kannada , Tanna yauvanakaaladindalu M...  \n",
              "24  __label__Kannada , Masaachusetsna fraaminghamn...  \n",
              "25  __label__Bengali , Er purbo pashe Bharot-Bangl...  \n",
              "26  __label__Hindi , data ko labhkari mante hai, l...  \n",
              "27  __label__Marathi , chi vaidyakiya pariksha utt...  \n",
              "28  __label__Telugu , babu admin st half baagundhi...  \n",
              "29  __label__Hindi , ek aatankvaadi ko dandit kiya...  \n",
              "30  __label__Bengali , Tini biswavidyaloia sahitto...  \n",
              "31  __label__Bengali , A kaajti korar jonne ghono ...  \n",
              "32  __label__Marathi , Yanantar tin kinva char cha...  \n",
              "33  __label__Bengali , viyena dokholer porpori sov...  \n",
              "34  __label__Kannada , britannalli udbhavisida pra...  \n",
              "35  __label__Kannada , Aarogya mattu kshemarakshan...  \n",
              "36  __label__Marathi , akravi uttirna kelyavar Man...  \n",
              "37  __label__Bengali , Onyotomo ullekhjogyo ghoton...  \n",
              "38  __label__Bengali , Tathapi, onek desh, jemon -...  \n",
              "39  __label__Bengali , Tobe bortomane ei stadiume ...  \n",
              "40         __label__Bengali , Rijudar songe sufokor-e  \n",
              "41  __label__Hindi , kala me aam taur par dikhai d...  \n",
              "42  __label__Hindi , dharm se ise alag karte huye ...  \n",
              "43  __label__Hindi , teravad bauddho dvara 6thi sh...  \n",
              "44  __label__Telugu , NTR voice vinadani kae pataa...  \n",
              "45  __label__Marathi , Navya gajhalkarankadun aash...  \n",
              "46  __label__Kannada , Samudradalli siguva meenu m...  \n",
              "47  __label__Marathi , Aundha Nagnath talukyatil k...  \n",
              "48  __label__Kannada , THE CBSI indu americada pav...  \n",
              "49  __label__Kannada , Harshanandaji, Swami Uddava...  "
            ],
            "text/html": [
              "\n",
              "  <div id=\"df-3d52b358-c33c-4ba0-8f0c-04e25d3368a4\">\n",
              "    <div class=\"colab-df-container\">\n",
              "      <div>\n",
              "<style scoped>\n",
              "    .dataframe tbody tr th:only-of-type {\n",
              "        vertical-align: middle;\n",
              "    }\n",
              "\n",
              "    .dataframe tbody tr th {\n",
              "        vertical-align: top;\n",
              "    }\n",
              "\n",
              "    .dataframe thead th {\n",
              "        text-align: right;\n",
              "    }\n",
              "</style>\n",
              "<table border=\"1\" class=\"dataframe\">\n",
              "  <thead>\n",
              "    <tr style=\"text-align: right;\">\n",
              "      <th></th>\n",
              "      <th>input</th>\n",
              "      <th>lang</th>\n",
              "      <th>normalized</th>\n",
              "    </tr>\n",
              "  </thead>\n",
              "  <tbody>\n",
              "    <tr>\n",
              "      <th>0</th>\n",
              "      <td>Owen Lee Hargreaves (jonmo 20 January 1981, Al...</td>\n",
              "      <td>Bengali</td>\n",
              "      <td>__label__Bengali , Owen Lee Hargreaves (jonmo ...</td>\n",
              "    </tr>\n",
              "    <tr>\n",
              "      <th>1</th>\n",
              "      <td>mb  ki ee class audience entha baaga hand ic...</td>\n",
              "      <td>Telugu</td>\n",
              "      <td>__label__Telugu , mb ki ee class audience enth...</td>\n",
              "    </tr>\n",
              "    <tr>\n",
              "      <th>2</th>\n",
              "      <td>Sisira rituvina magha masada krsnapaksa caturd...</td>\n",
              "      <td>Kannada</td>\n",
              "      <td>__label__Kannada , Sisira rituvina magha masad...</td>\n",
              "    </tr>\n",
              "    <tr>\n",
              "      <th>3</th>\n",
              "      <td>protivaban swagotik springbokderke 1-0 babodha...</td>\n",
              "      <td>Bengali</td>\n",
              "      <td>__label__Bengali , protivaban swagotik springb...</td>\n",
              "    </tr>\n",
              "    <tr>\n",
              "      <th>4</th>\n",
              "      <td>me senapati Fan Ven ne sinhaasan par adhikar k...</td>\n",
              "      <td>Hindi</td>\n",
              "      <td>__label__Hindi , me senapati Fan Ven ne sinhaa...</td>\n",
              "    </tr>\n",
              "    <tr>\n",
              "      <th>5</th>\n",
              "      <td>samuh se tatparya panthik ya bhashayi alpsankh...</td>\n",
              "      <td>Hindi</td>\n",
              "      <td>__label__Hindi , samuh se tatparya panthik ya ...</td>\n",
              "    </tr>\n",
              "    <tr>\n",
              "      <th>6</th>\n",
              "      <td>ulumege beku.</td>\n",
              "      <td>Kannada</td>\n",
              "      <td>__label__Kannada , ulumege beku.</td>\n",
              "    </tr>\n",
              "    <tr>\n",
              "      <th>7</th>\n",
              "      <td>1995 saali Uttar Pradesh rajyatil nivadnuka ji...</td>\n",
              "      <td>Marathi</td>\n",
              "      <td>__label__Marathi , 1995 saali Uttar Pradesh ra...</td>\n",
              "    </tr>\n",
              "    <tr>\n",
              "      <th>8</th>\n",
              "      <td>Mohilader Cricket</td>\n",
              "      <td>Bengali</td>\n",
              "      <td>__label__Bengali , Mohilader Cricket</td>\n",
              "    </tr>\n",
              "    <tr>\n",
              "      <th>9</th>\n",
              "      <td>kruntak (artha: kurtadkhor praani)</td>\n",
              "      <td>Marathi</td>\n",
              "      <td>__label__Marathi , kruntak (artha: kurtadkhor ...</td>\n",
              "    </tr>\n",
              "    <tr>\n",
              "      <th>10</th>\n",
              "      <td>gatij urja karak:</td>\n",
              "      <td>Marathi</td>\n",
              "      <td>__label__Marathi , gatij urja karak:</td>\n",
              "    </tr>\n",
              "    <tr>\n",
              "      <th>11</th>\n",
              "      <td>Baytu ek Rajasthan ke Barmer jile ki ek tahasi...</td>\n",
              "      <td>Hindi</td>\n",
              "      <td>__label__Hindi , Baytu ek Rajasthan ke Barmer ...</td>\n",
              "    </tr>\n",
              "    <tr>\n",
              "      <th>12</th>\n",
              "      <td>Fixed</td>\n",
              "      <td>Hindi</td>\n",
              "      <td>__label__Hindi , Fixed</td>\n",
              "    </tr>\n",
              "    <tr>\n",
              "      <th>13</th>\n",
              "      <td>Thalak tipa aani tejasavi paan pardarshi saai ...</td>\n",
              "      <td>Marathi</td>\n",
              "      <td>__label__Marathi , Thalak tipa aani tejasavi p...</td>\n",
              "    </tr>\n",
              "    <tr>\n",
              "      <th>14</th>\n",
              "      <td>vayachya saatvya varshanpasun Ashok Samel yann...</td>\n",
              "      <td>Marathi</td>\n",
              "      <td>__label__Marathi , vayachya saatvya varshanpas...</td>\n",
              "    </tr>\n",
              "    <tr>\n",
              "      <th>15</th>\n",
              "      <td>Prativarsh ghatit hone wali is khagoliy mahatw...</td>\n",
              "      <td>Hindi</td>\n",
              "      <td>__label__Hindi , Prativarsh ghatit hone wali i...</td>\n",
              "    </tr>\n",
              "    <tr>\n",
              "      <th>16</th>\n",
              "      <td>Illi gypsum, sunnakallu, graphite, taamra, dol...</td>\n",
              "      <td>Kannada</td>\n",
              "      <td>__label__Kannada , Illi gypsum, sunnakallu, gr...</td>\n",
              "    </tr>\n",
              "    <tr>\n",
              "      <th>17</th>\n",
              "      <td>un‍hone apne career ke dauraan ek chaval ki 19...</td>\n",
              "      <td>Hindi</td>\n",
              "      <td>__label__Hindi , un‍hone apne career ke dauraa...</td>\n",
              "    </tr>\n",
              "    <tr>\n",
              "      <th>18</th>\n",
              "      <td>anthya</td>\n",
              "      <td>Kannada</td>\n",
              "      <td>__label__Kannada , anthya</td>\n",
              "    </tr>\n",
              "    <tr>\n",
              "      <th>19</th>\n",
              "      <td>Kintu erpor thekei tar boli besh durbol hote t...</td>\n",
              "      <td>Bengali</td>\n",
              "      <td>__label__Bengali , Kintu erpor thekei tar boli...</td>\n",
              "    </tr>\n",
              "    <tr>\n",
              "      <th>20</th>\n",
              "      <td>Jekhanei mohilara sekhanei tara boi bikri kora...</td>\n",
              "      <td>Bengali</td>\n",
              "      <td>__label__Bengali , Jekhanei mohilara sekhanei ...</td>\n",
              "    </tr>\n",
              "    <tr>\n",
              "      <th>21</th>\n",
              "      <td>ni bonda le  appatiki ippatiki Eppatiki  fan ...</td>\n",
              "      <td>Telugu</td>\n",
              "      <td>__label__Telugu , ni bonda le appatiki ippatik...</td>\n",
              "    </tr>\n",
              "    <tr>\n",
              "      <th>22</th>\n",
              "      <td>Madhya Pradeshatil pashuvaidyakiya vidyapithan...</td>\n",
              "      <td>Marathi</td>\n",
              "      <td>__label__Marathi , Madhya Pradeshatil pashuvai...</td>\n",
              "    </tr>\n",
              "    <tr>\n",
              "      <th>23</th>\n",
              "      <td>Tanna yauvanakaaladindalu Mountbaton‌‌nige bah...</td>\n",
              "      <td>Kannada</td>\n",
              "      <td>__label__Kannada , Tanna yauvanakaaladindalu M...</td>\n",
              "    </tr>\n",
              "    <tr>\n",
              "      <th>24</th>\n",
              "      <td>Masaachusetsna fraaminghamnalli pradhaana kaar...</td>\n",
              "      <td>Kannada</td>\n",
              "      <td>__label__Kannada , Masaachusetsna fraaminghamn...</td>\n",
              "    </tr>\n",
              "    <tr>\n",
              "      <th>25</th>\n",
              "      <td>Er purbo pashe Bharot-Bangladesh simanto.</td>\n",
              "      <td>Bengali</td>\n",
              "      <td>__label__Bengali , Er purbo pashe Bharot-Bangl...</td>\n",
              "    </tr>\n",
              "    <tr>\n",
              "      <th>26</th>\n",
              "      <td>data ko labhkari mante hai, lekin is tarah ke ...</td>\n",
              "      <td>Hindi</td>\n",
              "      <td>__label__Hindi , data ko labhkari mante hai, l...</td>\n",
              "    </tr>\n",
              "    <tr>\n",
              "      <th>27</th>\n",
              "      <td>chi vaidyakiya pariksha uttirna zalya.</td>\n",
              "      <td>Marathi</td>\n",
              "      <td>__label__Marathi , chi vaidyakiya pariksha utt...</td>\n",
              "    </tr>\n",
              "    <tr>\n",
              "      <th>28</th>\n",
              "      <td>babu admin st half baagundhi  that interval fi...</td>\n",
              "      <td>Telugu</td>\n",
              "      <td>__label__Telugu , babu admin st half baagundhi...</td>\n",
              "    </tr>\n",
              "    <tr>\n",
              "      <th>29</th>\n",
              "      <td>ek aatankvaadi ko dandit kiyan jana chahiye.</td>\n",
              "      <td>Hindi</td>\n",
              "      <td>__label__Hindi , ek aatankvaadi ko dandit kiya...</td>\n",
              "    </tr>\n",
              "    <tr>\n",
              "      <th>30</th>\n",
              "      <td>Tini biswavidyaloia sahitto, shongbadhikota eb...</td>\n",
              "      <td>Bengali</td>\n",
              "      <td>__label__Bengali , Tini biswavidyaloia sahitto...</td>\n",
              "    </tr>\n",
              "    <tr>\n",
              "      <th>31</th>\n",
              "      <td>A kaajti korar jonne ghono mul neyar proyojon ...</td>\n",
              "      <td>Bengali</td>\n",
              "      <td>__label__Bengali , A kaajti korar jonne ghono ...</td>\n",
              "    </tr>\n",
              "    <tr>\n",
              "      <th>32</th>\n",
              "      <td>Yanantar tin kinva char charan swar ani sahity...</td>\n",
              "      <td>Marathi</td>\n",
              "      <td>__label__Marathi , Yanantar tin kinva char cha...</td>\n",
              "    </tr>\n",
              "    <tr>\n",
              "      <th>33</th>\n",
              "      <td>viyena dokholer porpori soviyet soinyora shoho...</td>\n",
              "      <td>Bengali</td>\n",
              "      <td>__label__Bengali , viyena dokholer porpori sov...</td>\n",
              "    </tr>\n",
              "    <tr>\n",
              "      <th>34</th>\n",
              "      <td>britannalli udbhavisida prathama jatila kaigaa...</td>\n",
              "      <td>Kannada</td>\n",
              "      <td>__label__Kannada , britannalli udbhavisida pra...</td>\n",
              "    </tr>\n",
              "    <tr>\n",
              "      <th>35</th>\n",
              "      <td>Aarogya mattu kshemarakshana kaayidegala chari...</td>\n",
              "      <td>Kannada</td>\n",
              "      <td>__label__Kannada , Aarogya mattu kshemarakshan...</td>\n",
              "    </tr>\n",
              "    <tr>\n",
              "      <th>36</th>\n",
              "      <td>akravi uttirna kelyavar Manoj Pande Kendriya L...</td>\n",
              "      <td>Marathi</td>\n",
              "      <td>__label__Marathi , akravi uttirna kelyavar Man...</td>\n",
              "    </tr>\n",
              "    <tr>\n",
              "      <th>37</th>\n",
              "      <td>Onyotomo ullekhjogyo ghotona holo, bank-ti gaz...</td>\n",
              "      <td>Bengali</td>\n",
              "      <td>__label__Bengali , Onyotomo ullekhjogyo ghoton...</td>\n",
              "    </tr>\n",
              "    <tr>\n",
              "      <th>38</th>\n",
              "      <td>Tathapi, onek desh, jemon -Sweden, Switzerland...</td>\n",
              "      <td>Bengali</td>\n",
              "      <td>__label__Bengali , Tathapi, onek desh, jemon -...</td>\n",
              "    </tr>\n",
              "    <tr>\n",
              "      <th>39</th>\n",
              "      <td>Tobe bortomane ei stadiume Football beshi khel...</td>\n",
              "      <td>Bengali</td>\n",
              "      <td>__label__Bengali , Tobe bortomane ei stadiume ...</td>\n",
              "    </tr>\n",
              "    <tr>\n",
              "      <th>40</th>\n",
              "      <td>Rijudar songe sufokor-e</td>\n",
              "      <td>Bengali</td>\n",
              "      <td>__label__Bengali , Rijudar songe sufokor-e</td>\n",
              "    </tr>\n",
              "    <tr>\n",
              "      <th>41</th>\n",
              "      <td>kala me aam taur par dikhai dene vale iksinge ...</td>\n",
              "      <td>Hindi</td>\n",
              "      <td>__label__Hindi , kala me aam taur par dikhai d...</td>\n",
              "    </tr>\n",
              "    <tr>\n",
              "      <th>42</th>\n",
              "      <td>dharm se ise alag karte huye kiya hai, jinhen ...</td>\n",
              "      <td>Hindi</td>\n",
              "      <td>__label__Hindi , dharm se ise alag karte huye ...</td>\n",
              "    </tr>\n",
              "    <tr>\n",
              "      <th>43</th>\n",
              "      <td>teravad bauddho dvara 6thi shatabdi me banaya ...</td>\n",
              "      <td>Hindi</td>\n",
              "      <td>__label__Hindi , teravad bauddho dvara 6thi sh...</td>\n",
              "    </tr>\n",
              "    <tr>\n",
              "      <th>44</th>\n",
              "      <td>NTR voice vinadani kae pataas muvi ki vellaaa...</td>\n",
              "      <td>Telugu</td>\n",
              "      <td>__label__Telugu , NTR voice vinadani kae pataa...</td>\n",
              "    </tr>\n",
              "    <tr>\n",
              "      <th>45</th>\n",
              "      <td>Navya gajhalkarankadun aashvasak lekhan (marat...</td>\n",
              "      <td>Marathi</td>\n",
              "      <td>__label__Marathi , Navya gajhalkarankadun aash...</td>\n",
              "    </tr>\n",
              "    <tr>\n",
              "      <th>46</th>\n",
              "      <td>Samudradalli siguva meenu muntaada praanigalu</td>\n",
              "      <td>Kannada</td>\n",
              "      <td>__label__Kannada , Samudradalli siguva meenu m...</td>\n",
              "    </tr>\n",
              "    <tr>\n",
              "      <th>47</th>\n",
              "      <td>Aundha Nagnath talukyatil kahi gaave.</td>\n",
              "      <td>Marathi</td>\n",
              "      <td>__label__Marathi , Aundha Nagnath talukyatil k...</td>\n",
              "    </tr>\n",
              "    <tr>\n",
              "      <th>48</th>\n",
              "      <td>THE CBSI indu americada pavithra hegguruthaagide.</td>\n",
              "      <td>Kannada</td>\n",
              "      <td>__label__Kannada , THE CBSI indu americada pav...</td>\n",
              "    </tr>\n",
              "    <tr>\n",
              "      <th>49</th>\n",
              "      <td>Harshanandaji, Swami Uddavanandaji, Swami Jaga...</td>\n",
              "      <td>Kannada</td>\n",
              "      <td>__label__Kannada , Harshanandaji, Swami Uddava...</td>\n",
              "    </tr>\n",
              "  </tbody>\n",
              "</table>\n",
              "</div>\n",
              "      <button class=\"colab-df-convert\" onclick=\"convertToInteractive('df-3d52b358-c33c-4ba0-8f0c-04e25d3368a4')\"\n",
              "              title=\"Convert this dataframe to an interactive table.\"\n",
              "              style=\"display:none;\">\n",
              "        \n",
              "  <svg xmlns=\"http://www.w3.org/2000/svg\" height=\"24px\"viewBox=\"0 0 24 24\"\n",
              "       width=\"24px\">\n",
              "    <path d=\"M0 0h24v24H0V0z\" fill=\"none\"/>\n",
              "    <path d=\"M18.56 5.44l.94 2.06.94-2.06 2.06-.94-2.06-.94-.94-2.06-.94 2.06-2.06.94zm-11 1L8.5 8.5l.94-2.06 2.06-.94-2.06-.94L8.5 2.5l-.94 2.06-2.06.94zm10 10l.94 2.06.94-2.06 2.06-.94-2.06-.94-.94-2.06-.94 2.06-2.06.94z\"/><path d=\"M17.41 7.96l-1.37-1.37c-.4-.4-.92-.59-1.43-.59-.52 0-1.04.2-1.43.59L10.3 9.45l-7.72 7.72c-.78.78-.78 2.05 0 2.83L4 21.41c.39.39.9.59 1.41.59.51 0 1.02-.2 1.41-.59l7.78-7.78 2.81-2.81c.8-.78.8-2.07 0-2.86zM5.41 20L4 18.59l7.72-7.72 1.47 1.35L5.41 20z\"/>\n",
              "  </svg>\n",
              "      </button>\n",
              "      \n",
              "  <style>\n",
              "    .colab-df-container {\n",
              "      display:flex;\n",
              "      flex-wrap:wrap;\n",
              "      gap: 12px;\n",
              "    }\n",
              "\n",
              "    .colab-df-convert {\n",
              "      background-color: #E8F0FE;\n",
              "      border: none;\n",
              "      border-radius: 50%;\n",
              "      cursor: pointer;\n",
              "      display: none;\n",
              "      fill: #1967D2;\n",
              "      height: 32px;\n",
              "      padding: 0 0 0 0;\n",
              "      width: 32px;\n",
              "    }\n",
              "\n",
              "    .colab-df-convert:hover {\n",
              "      background-color: #E2EBFA;\n",
              "      box-shadow: 0px 1px 2px rgba(60, 64, 67, 0.3), 0px 1px 3px 1px rgba(60, 64, 67, 0.15);\n",
              "      fill: #174EA6;\n",
              "    }\n",
              "\n",
              "    [theme=dark] .colab-df-convert {\n",
              "      background-color: #3B4455;\n",
              "      fill: #D2E3FC;\n",
              "    }\n",
              "\n",
              "    [theme=dark] .colab-df-convert:hover {\n",
              "      background-color: #434B5C;\n",
              "      box-shadow: 0px 1px 3px 1px rgba(0, 0, 0, 0.15);\n",
              "      filter: drop-shadow(0px 1px 2px rgba(0, 0, 0, 0.3));\n",
              "      fill: #FFFFFF;\n",
              "    }\n",
              "  </style>\n",
              "\n",
              "      <script>\n",
              "        const buttonEl =\n",
              "          document.querySelector('#df-3d52b358-c33c-4ba0-8f0c-04e25d3368a4 button.colab-df-convert');\n",
              "        buttonEl.style.display =\n",
              "          google.colab.kernel.accessAllowed ? 'block' : 'none';\n",
              "\n",
              "        async function convertToInteractive(key) {\n",
              "          const element = document.querySelector('#df-3d52b358-c33c-4ba0-8f0c-04e25d3368a4');\n",
              "          const dataTable =\n",
              "            await google.colab.kernel.invokeFunction('convertToInteractive',\n",
              "                                                     [key], {});\n",
              "          if (!dataTable) return;\n",
              "\n",
              "          const docLinkHtml = 'Like what you see? Visit the ' +\n",
              "            '<a target=\"_blank\" href=https://colab.research.google.com/notebooks/data_table.ipynb>data table notebook</a>'\n",
              "            + ' to learn more about interactive tables.';\n",
              "          element.innerHTML = '';\n",
              "          dataTable['output_type'] = 'display_data';\n",
              "          await google.colab.output.renderOutput(dataTable, element);\n",
              "          const docLink = document.createElement('div');\n",
              "          docLink.innerHTML = docLinkHtml;\n",
              "          element.appendChild(docLink);\n",
              "        }\n",
              "      </script>\n",
              "    </div>\n",
              "  </div>\n",
              "  "
            ]
          },
          "metadata": {},
          "execution_count": 21
        }
      ]
    },
    {
      "cell_type": "code",
      "source": [
        "n = int(len(df1)*0.75)\n",
        "n"
      ],
      "metadata": {
        "colab": {
          "base_uri": "https://localhost:8080/"
        },
        "id": "qolAxlLfdP75",
        "outputId": "514b8e92-f5f0-4154-c534-a868ca988ed5"
      },
      "execution_count": null,
      "outputs": [
        {
          "output_type": "execute_result",
          "data": {
            "text/plain": [
              "32559"
            ]
          },
          "metadata": {},
          "execution_count": 22
        }
      ]
    },
    {
      "cell_type": "code",
      "source": [
        "train = df1['normalized'][:n].copy()\n",
        "test = df1['normalized'][n:].copy()"
      ],
      "metadata": {
        "id": "vS283t7Obywq"
      },
      "execution_count": null,
      "outputs": []
    },
    {
      "cell_type": "code",
      "source": [
        "mkdir -p data"
      ],
      "metadata": {
        "id": "VDradvi2gEc2"
      },
      "execution_count": null,
      "outputs": []
    },
    {
      "cell_type": "code",
      "source": [
        "np.savetxt('data/yo.train', train.values, fmt=\"%s\")\n",
        "np.savetxt('data/yo.eval', test.values, fmt=\"%s\")"
      ],
      "metadata": {
        "id": "74s96X_ldiz5"
      },
      "execution_count": null,
      "outputs": []
    },
    {
      "cell_type": "code",
      "source": [
        "!git clone https://github.com/facebookresearch/fastText.git"
      ],
      "metadata": {
        "colab": {
          "base_uri": "https://localhost:8080/"
        },
        "id": "iP3POVlvd5dj",
        "outputId": "b8288871-fc57-4293-fba1-d490f58ee411"
      },
      "execution_count": null,
      "outputs": [
        {
          "output_type": "stream",
          "name": "stdout",
          "text": [
            "Cloning into 'fastText'...\n",
            "remote: Enumerating objects: 3930, done.\u001b[K\n",
            "remote: Counting objects: 100% (944/944), done.\u001b[K\n",
            "remote: Compressing objects: 100% (140/140), done.\u001b[K\n",
            "remote: Total 3930 (delta 854), reused 804 (delta 804), pack-reused 2986\u001b[K\n",
            "Receiving objects: 100% (3930/3930), 8.24 MiB | 20.49 MiB/s, done.\n",
            "Resolving deltas: 100% (2505/2505), done.\n"
          ]
        }
      ]
    },
    {
      "cell_type": "code",
      "source": [
        "%%bash\n",
        "cd fastText/\n",
        "make"
      ],
      "metadata": {
        "colab": {
          "base_uri": "https://localhost:8080/"
        },
        "id": "a_MIIKm6flnj",
        "outputId": "d71e68da-895c-4638-e4fe-fd5a8d425313"
      },
      "execution_count": null,
      "outputs": [
        {
          "output_type": "stream",
          "name": "stdout",
          "text": [
            "c++ -pthread -std=c++11 -march=native -O3 -funroll-loops -DNDEBUG -c src/args.cc\n",
            "c++ -pthread -std=c++11 -march=native -O3 -funroll-loops -DNDEBUG -c src/autotune.cc\n",
            "c++ -pthread -std=c++11 -march=native -O3 -funroll-loops -DNDEBUG -c src/matrix.cc\n",
            "c++ -pthread -std=c++11 -march=native -O3 -funroll-loops -DNDEBUG -c src/dictionary.cc\n",
            "c++ -pthread -std=c++11 -march=native -O3 -funroll-loops -DNDEBUG -c src/loss.cc\n",
            "c++ -pthread -std=c++11 -march=native -O3 -funroll-loops -DNDEBUG -c src/productquantizer.cc\n",
            "c++ -pthread -std=c++11 -march=native -O3 -funroll-loops -DNDEBUG -c src/densematrix.cc\n",
            "c++ -pthread -std=c++11 -march=native -O3 -funroll-loops -DNDEBUG -c src/quantmatrix.cc\n",
            "c++ -pthread -std=c++11 -march=native -O3 -funroll-loops -DNDEBUG -c src/vector.cc\n",
            "c++ -pthread -std=c++11 -march=native -O3 -funroll-loops -DNDEBUG -c src/model.cc\n",
            "c++ -pthread -std=c++11 -march=native -O3 -funroll-loops -DNDEBUG -c src/utils.cc\n",
            "c++ -pthread -std=c++11 -march=native -O3 -funroll-loops -DNDEBUG -c src/meter.cc\n",
            "c++ -pthread -std=c++11 -march=native -O3 -funroll-loops -DNDEBUG -c src/fasttext.cc\n",
            "c++ -pthread -std=c++11 -march=native -O3 -funroll-loops -DNDEBUG args.o autotune.o matrix.o dictionary.o loss.o productquantizer.o densematrix.o quantmatrix.o vector.o model.o utils.o meter.o fasttext.o src/main.cc -o fasttext\n"
          ]
        }
      ]
    },
    {
      "cell_type": "code",
      "source": [
        "%%bash\n",
        "mkdir -p model\n",
        "\n",
        "TRAIN=data/yo.train\n",
        "RESULT=model/yo\n",
        "\n",
        "./fastText/fasttext supervised -input $TRAIN -output $RESULT"
      ],
      "metadata": {
        "colab": {
          "base_uri": "https://localhost:8080/"
        },
        "id": "7eIh3S0CftOK",
        "outputId": "28ae2ee7-c098-4a7c-a222-774d7c0e1595"
      },
      "execution_count": null,
      "outputs": [
        {
          "output_type": "stream",
          "name": "stderr",
          "text": [
            "\rRead 0M words\n",
            "Number of words:  134581\n",
            "Number of labels: 5\n",
            "\rProgress:   8.5% words/sec/thread:  172496 lr:  0.091490 avg.loss:  1.289648 ETA:   0h 0m 1s\rProgress:  18.0% words/sec/thread:  182731 lr:  0.081998 avg.loss:  0.949609 ETA:   0h 0m 0s\rProgress:  28.4% words/sec/thread:  191816 lr:  0.071640 avg.loss:  0.713946 ETA:   0h 0m 0s\rProgress:  38.4% words/sec/thread:  194726 lr:  0.061636 avg.loss:  0.562229 ETA:   0h 0m 0s\rProgress:  49.4% words/sec/thread:  200592 lr:  0.050622 avg.loss:  0.433903 ETA:   0h 0m 0s\rProgress:  59.2% words/sec/thread:  200374 lr:  0.040829 avg.loss:  0.364782 ETA:   0h 0m 0s\rProgress:  68.9% words/sec/thread:  200035 lr:  0.031098 avg.loss:  0.314060 ETA:   0h 0m 0s\rProgress:  79.7% words/sec/thread:  202383 lr:  0.020347 avg.loss:  0.276296 ETA:   0h 0m 0s\rProgress:  90.6% words/sec/thread:  204660 lr:  0.009387 avg.loss:  0.239895 ETA:   0h 0m 0s\rProgress: 100.0% words/sec/thread:  203315 lr: -0.000012 avg.loss:  0.218389 ETA:   0h 0m 0s\rProgress: 100.0% words/sec/thread:  203286 lr:  0.000000 avg.loss:  0.218389 ETA:   0h 0m 0s\n"
          ]
        }
      ]
    },
    {
      "cell_type": "code",
      "source": [
        "%%bash\n",
        "MODEL=model/yo.bin\n",
        "TEST=data/yo.eval\n",
        "\n",
        "./fastText/fasttext test $MODEL $TEST"
      ],
      "metadata": {
        "colab": {
          "base_uri": "https://localhost:8080/"
        },
        "id": "Yv-ynyAHgfx9",
        "outputId": "dca761ed-735b-4c24-8e41-eddeaafe67f4"
      },
      "execution_count": null,
      "outputs": [
        {
          "output_type": "stream",
          "name": "stdout",
          "text": [
            "N\t10854\n",
            "P@1\t0.934\n",
            "R@1\t0.934\n"
          ]
        }
      ]
    },
    {
      "cell_type": "code",
      "source": [
        "%%bash\n",
        "mkdir -p prediction\n",
        "\n",
        "MODEL=model/yo.bin\n",
        "TEST=data/yo.eval\n",
        "OUTPUT=prediction/yo.eval.predict\n",
        "\n",
        "./fastText/fasttext predict $MODEL $TEST > $OUTPUT"
      ],
      "metadata": {
        "id": "yjlHp3BGgsek"
      },
      "execution_count": null,
      "outputs": []
    },
    {
      "cell_type": "code",
      "source": [
        "test1 = pd.read_csv('valid1.csv')"
      ],
      "metadata": {
        "id": "Hr-b6FUehyyd"
      },
      "execution_count": null,
      "outputs": []
    },
    {
      "cell_type": "code",
      "source": [
        "test1 = test1[['input','lang']]"
      ],
      "metadata": {
        "id": "Ml7FVA5mfzuf"
      },
      "execution_count": null,
      "outputs": []
    },
    {
      "cell_type": "code",
      "source": [
        "test1.where(test1[\"lang\"]!=\"Telegu\",inplace = True)"
      ],
      "metadata": {
        "id": "0kPYQbfLzA8b"
      },
      "execution_count": null,
      "outputs": []
    },
    {
      "cell_type": "code",
      "source": [
        "test1.where(test1[\"lang\"]!=\"Tamil\",inplace = True)"
      ],
      "metadata": {
        "id": "nBQ9kXR_dFLn"
      },
      "execution_count": null,
      "outputs": []
    },
    {
      "cell_type": "code",
      "source": [
        "test1 = test1.dropna()"
      ],
      "metadata": {
        "id": "Z_i1NqPQzI7Z"
      },
      "execution_count": null,
      "outputs": []
    },
    {
      "cell_type": "code",
      "source": [
        "test1['lang'].unique()"
      ],
      "metadata": {
        "colab": {
          "base_uri": "https://localhost:8080/"
        },
        "id": "6OfzoDuezPUI",
        "outputId": "da3b9c28-7f20-4d7d-8da0-29ccf15440d8"
      },
      "execution_count": null,
      "outputs": [
        {
          "output_type": "execute_result",
          "data": {
            "text/plain": [
              "array(['Kannada', 'Hindi', 'Bengali', 'Marathi'], dtype=object)"
            ]
          },
          "metadata": {},
          "execution_count": 36
        }
      ]
    },
    {
      "cell_type": "code",
      "source": [
        "test1.head()"
      ],
      "metadata": {
        "colab": {
          "base_uri": "https://localhost:8080/",
          "height": 206
        },
        "id": "qGe_Iq-Zgfbp",
        "outputId": "8095f358-c8f7-468f-a9ad-6d8417964e19"
      },
      "execution_count": null,
      "outputs": [
        {
          "output_type": "execute_result",
          "data": {
            "text/plain": [
              "                                               input     lang\n",
              "1  1906ralli Thomas Tharp embuvanu ee sunitagalan...  Kannada\n",
              "2  eegaagale Sony CBS hesarina brand balakege alp...  Kannada\n",
              "3  Europe, England mattu Bhaaratada Collegeugalal...  Kannada\n",
              "4                       Tadegode nirmisidare laabha:  Kannada\n",
              "5           silbhar sulfide ek acarbonic yaugik hai.    Hindi"
            ],
            "text/html": [
              "\n",
              "  <div id=\"df-0c38e627-088e-49c8-af8d-f93854900680\">\n",
              "    <div class=\"colab-df-container\">\n",
              "      <div>\n",
              "<style scoped>\n",
              "    .dataframe tbody tr th:only-of-type {\n",
              "        vertical-align: middle;\n",
              "    }\n",
              "\n",
              "    .dataframe tbody tr th {\n",
              "        vertical-align: top;\n",
              "    }\n",
              "\n",
              "    .dataframe thead th {\n",
              "        text-align: right;\n",
              "    }\n",
              "</style>\n",
              "<table border=\"1\" class=\"dataframe\">\n",
              "  <thead>\n",
              "    <tr style=\"text-align: right;\">\n",
              "      <th></th>\n",
              "      <th>input</th>\n",
              "      <th>lang</th>\n",
              "    </tr>\n",
              "  </thead>\n",
              "  <tbody>\n",
              "    <tr>\n",
              "      <th>1</th>\n",
              "      <td>1906ralli Thomas Tharp embuvanu ee sunitagalan...</td>\n",
              "      <td>Kannada</td>\n",
              "    </tr>\n",
              "    <tr>\n",
              "      <th>2</th>\n",
              "      <td>eegaagale Sony CBS hesarina brand balakege alp...</td>\n",
              "      <td>Kannada</td>\n",
              "    </tr>\n",
              "    <tr>\n",
              "      <th>3</th>\n",
              "      <td>Europe, England mattu Bhaaratada Collegeugalal...</td>\n",
              "      <td>Kannada</td>\n",
              "    </tr>\n",
              "    <tr>\n",
              "      <th>4</th>\n",
              "      <td>Tadegode nirmisidare laabha:</td>\n",
              "      <td>Kannada</td>\n",
              "    </tr>\n",
              "    <tr>\n",
              "      <th>5</th>\n",
              "      <td>silbhar sulfide ek acarbonic yaugik hai.</td>\n",
              "      <td>Hindi</td>\n",
              "    </tr>\n",
              "  </tbody>\n",
              "</table>\n",
              "</div>\n",
              "      <button class=\"colab-df-convert\" onclick=\"convertToInteractive('df-0c38e627-088e-49c8-af8d-f93854900680')\"\n",
              "              title=\"Convert this dataframe to an interactive table.\"\n",
              "              style=\"display:none;\">\n",
              "        \n",
              "  <svg xmlns=\"http://www.w3.org/2000/svg\" height=\"24px\"viewBox=\"0 0 24 24\"\n",
              "       width=\"24px\">\n",
              "    <path d=\"M0 0h24v24H0V0z\" fill=\"none\"/>\n",
              "    <path d=\"M18.56 5.44l.94 2.06.94-2.06 2.06-.94-2.06-.94-.94-2.06-.94 2.06-2.06.94zm-11 1L8.5 8.5l.94-2.06 2.06-.94-2.06-.94L8.5 2.5l-.94 2.06-2.06.94zm10 10l.94 2.06.94-2.06 2.06-.94-2.06-.94-.94-2.06-.94 2.06-2.06.94z\"/><path d=\"M17.41 7.96l-1.37-1.37c-.4-.4-.92-.59-1.43-.59-.52 0-1.04.2-1.43.59L10.3 9.45l-7.72 7.72c-.78.78-.78 2.05 0 2.83L4 21.41c.39.39.9.59 1.41.59.51 0 1.02-.2 1.41-.59l7.78-7.78 2.81-2.81c.8-.78.8-2.07 0-2.86zM5.41 20L4 18.59l7.72-7.72 1.47 1.35L5.41 20z\"/>\n",
              "  </svg>\n",
              "      </button>\n",
              "      \n",
              "  <style>\n",
              "    .colab-df-container {\n",
              "      display:flex;\n",
              "      flex-wrap:wrap;\n",
              "      gap: 12px;\n",
              "    }\n",
              "\n",
              "    .colab-df-convert {\n",
              "      background-color: #E8F0FE;\n",
              "      border: none;\n",
              "      border-radius: 50%;\n",
              "      cursor: pointer;\n",
              "      display: none;\n",
              "      fill: #1967D2;\n",
              "      height: 32px;\n",
              "      padding: 0 0 0 0;\n",
              "      width: 32px;\n",
              "    }\n",
              "\n",
              "    .colab-df-convert:hover {\n",
              "      background-color: #E2EBFA;\n",
              "      box-shadow: 0px 1px 2px rgba(60, 64, 67, 0.3), 0px 1px 3px 1px rgba(60, 64, 67, 0.15);\n",
              "      fill: #174EA6;\n",
              "    }\n",
              "\n",
              "    [theme=dark] .colab-df-convert {\n",
              "      background-color: #3B4455;\n",
              "      fill: #D2E3FC;\n",
              "    }\n",
              "\n",
              "    [theme=dark] .colab-df-convert:hover {\n",
              "      background-color: #434B5C;\n",
              "      box-shadow: 0px 1px 3px 1px rgba(0, 0, 0, 0.15);\n",
              "      filter: drop-shadow(0px 1px 2px rgba(0, 0, 0, 0.3));\n",
              "      fill: #FFFFFF;\n",
              "    }\n",
              "  </style>\n",
              "\n",
              "      <script>\n",
              "        const buttonEl =\n",
              "          document.querySelector('#df-0c38e627-088e-49c8-af8d-f93854900680 button.colab-df-convert');\n",
              "        buttonEl.style.display =\n",
              "          google.colab.kernel.accessAllowed ? 'block' : 'none';\n",
              "\n",
              "        async function convertToInteractive(key) {\n",
              "          const element = document.querySelector('#df-0c38e627-088e-49c8-af8d-f93854900680');\n",
              "          const dataTable =\n",
              "            await google.colab.kernel.invokeFunction('convertToInteractive',\n",
              "                                                     [key], {});\n",
              "          if (!dataTable) return;\n",
              "\n",
              "          const docLinkHtml = 'Like what you see? Visit the ' +\n",
              "            '<a target=\"_blank\" href=https://colab.research.google.com/notebooks/data_table.ipynb>data table notebook</a>'\n",
              "            + ' to learn more about interactive tables.';\n",
              "          element.innerHTML = '';\n",
              "          dataTable['output_type'] = 'display_data';\n",
              "          await google.colab.output.renderOutput(dataTable, element);\n",
              "          const docLink = document.createElement('div');\n",
              "          docLink.innerHTML = docLinkHtml;\n",
              "          element.appendChild(docLink);\n",
              "        }\n",
              "      </script>\n",
              "    </div>\n",
              "  </div>\n",
              "  "
            ]
          },
          "metadata": {},
          "execution_count": 37
        }
      ]
    },
    {
      "cell_type": "code",
      "source": [
        "test11 = pd.concat([te_te_df,test1],axis = 0)"
      ],
      "metadata": {
        "id": "drzPc99SfHE2"
      },
      "execution_count": null,
      "outputs": []
    },
    {
      "cell_type": "code",
      "source": [
        "test = test11.sample(frac=1, random_state=1)\n",
        "test = test.reset_index()\n",
        "test = test.drop(\"index\",axis = 1)\n",
        "test"
      ],
      "metadata": {
        "colab": {
          "base_uri": "https://localhost:8080/",
          "height": 424
        },
        "id": "B_FchxR0fgLV",
        "outputId": "57beca7f-733e-4bf8-e70f-eaa79cc2d9ab"
      },
      "execution_count": null,
      "outputs": [
        {
          "output_type": "execute_result",
          "data": {
            "text/plain": [
              "                                                 input     lang\n",
              "0              pathy sikar korar koushol nana rokomer.  Bengali\n",
              "1     hmm  I love Malick  Aana TO THE WONDER le ena...   Telugu\n",
              "2    Endhi ra idhi  vallu aadakunte needemi poyindh...   Telugu\n",
              "3    Eppudu em matladalo Teliudu Explanation ichadu...   Telugu\n",
              "4    Valbi ya katakshane 'gharguti' va 'kutumb' yam...  Marathi\n",
              "..                                                 ...      ...\n",
              "618  really saying movie is average nuvu admin inka...   Telugu\n",
              "619   alaanti sangdhigdham eppudu raaledhu  Money v...   Telugu\n",
              "620    Hola Talina soy Omar  Quiero contarte alguna...   Telugu\n",
              "621  ya 'Pratibha Pratishthan'che paise mudatichya ...  Marathi\n",
              "622                                Movie bavundi  supb   Telugu\n",
              "\n",
              "[623 rows x 2 columns]"
            ],
            "text/html": [
              "\n",
              "  <div id=\"df-0db8e28b-479e-4b97-85a8-3e431e8ce030\">\n",
              "    <div class=\"colab-df-container\">\n",
              "      <div>\n",
              "<style scoped>\n",
              "    .dataframe tbody tr th:only-of-type {\n",
              "        vertical-align: middle;\n",
              "    }\n",
              "\n",
              "    .dataframe tbody tr th {\n",
              "        vertical-align: top;\n",
              "    }\n",
              "\n",
              "    .dataframe thead th {\n",
              "        text-align: right;\n",
              "    }\n",
              "</style>\n",
              "<table border=\"1\" class=\"dataframe\">\n",
              "  <thead>\n",
              "    <tr style=\"text-align: right;\">\n",
              "      <th></th>\n",
              "      <th>input</th>\n",
              "      <th>lang</th>\n",
              "    </tr>\n",
              "  </thead>\n",
              "  <tbody>\n",
              "    <tr>\n",
              "      <th>0</th>\n",
              "      <td>pathy sikar korar koushol nana rokomer.</td>\n",
              "      <td>Bengali</td>\n",
              "    </tr>\n",
              "    <tr>\n",
              "      <th>1</th>\n",
              "      <td>hmm  I love Malick  Aana TO THE WONDER le ena...</td>\n",
              "      <td>Telugu</td>\n",
              "    </tr>\n",
              "    <tr>\n",
              "      <th>2</th>\n",
              "      <td>Endhi ra idhi  vallu aadakunte needemi poyindh...</td>\n",
              "      <td>Telugu</td>\n",
              "    </tr>\n",
              "    <tr>\n",
              "      <th>3</th>\n",
              "      <td>Eppudu em matladalo Teliudu Explanation ichadu...</td>\n",
              "      <td>Telugu</td>\n",
              "    </tr>\n",
              "    <tr>\n",
              "      <th>4</th>\n",
              "      <td>Valbi ya katakshane 'gharguti' va 'kutumb' yam...</td>\n",
              "      <td>Marathi</td>\n",
              "    </tr>\n",
              "    <tr>\n",
              "      <th>...</th>\n",
              "      <td>...</td>\n",
              "      <td>...</td>\n",
              "    </tr>\n",
              "    <tr>\n",
              "      <th>618</th>\n",
              "      <td>really saying movie is average nuvu admin inka...</td>\n",
              "      <td>Telugu</td>\n",
              "    </tr>\n",
              "    <tr>\n",
              "      <th>619</th>\n",
              "      <td>alaanti sangdhigdham eppudu raaledhu  Money v...</td>\n",
              "      <td>Telugu</td>\n",
              "    </tr>\n",
              "    <tr>\n",
              "      <th>620</th>\n",
              "      <td>Hola Talina soy Omar  Quiero contarte alguna...</td>\n",
              "      <td>Telugu</td>\n",
              "    </tr>\n",
              "    <tr>\n",
              "      <th>621</th>\n",
              "      <td>ya 'Pratibha Pratishthan'che paise mudatichya ...</td>\n",
              "      <td>Marathi</td>\n",
              "    </tr>\n",
              "    <tr>\n",
              "      <th>622</th>\n",
              "      <td>Movie bavundi  supb</td>\n",
              "      <td>Telugu</td>\n",
              "    </tr>\n",
              "  </tbody>\n",
              "</table>\n",
              "<p>623 rows × 2 columns</p>\n",
              "</div>\n",
              "      <button class=\"colab-df-convert\" onclick=\"convertToInteractive('df-0db8e28b-479e-4b97-85a8-3e431e8ce030')\"\n",
              "              title=\"Convert this dataframe to an interactive table.\"\n",
              "              style=\"display:none;\">\n",
              "        \n",
              "  <svg xmlns=\"http://www.w3.org/2000/svg\" height=\"24px\"viewBox=\"0 0 24 24\"\n",
              "       width=\"24px\">\n",
              "    <path d=\"M0 0h24v24H0V0z\" fill=\"none\"/>\n",
              "    <path d=\"M18.56 5.44l.94 2.06.94-2.06 2.06-.94-2.06-.94-.94-2.06-.94 2.06-2.06.94zm-11 1L8.5 8.5l.94-2.06 2.06-.94-2.06-.94L8.5 2.5l-.94 2.06-2.06.94zm10 10l.94 2.06.94-2.06 2.06-.94-2.06-.94-.94-2.06-.94 2.06-2.06.94z\"/><path d=\"M17.41 7.96l-1.37-1.37c-.4-.4-.92-.59-1.43-.59-.52 0-1.04.2-1.43.59L10.3 9.45l-7.72 7.72c-.78.78-.78 2.05 0 2.83L4 21.41c.39.39.9.59 1.41.59.51 0 1.02-.2 1.41-.59l7.78-7.78 2.81-2.81c.8-.78.8-2.07 0-2.86zM5.41 20L4 18.59l7.72-7.72 1.47 1.35L5.41 20z\"/>\n",
              "  </svg>\n",
              "      </button>\n",
              "      \n",
              "  <style>\n",
              "    .colab-df-container {\n",
              "      display:flex;\n",
              "      flex-wrap:wrap;\n",
              "      gap: 12px;\n",
              "    }\n",
              "\n",
              "    .colab-df-convert {\n",
              "      background-color: #E8F0FE;\n",
              "      border: none;\n",
              "      border-radius: 50%;\n",
              "      cursor: pointer;\n",
              "      display: none;\n",
              "      fill: #1967D2;\n",
              "      height: 32px;\n",
              "      padding: 0 0 0 0;\n",
              "      width: 32px;\n",
              "    }\n",
              "\n",
              "    .colab-df-convert:hover {\n",
              "      background-color: #E2EBFA;\n",
              "      box-shadow: 0px 1px 2px rgba(60, 64, 67, 0.3), 0px 1px 3px 1px rgba(60, 64, 67, 0.15);\n",
              "      fill: #174EA6;\n",
              "    }\n",
              "\n",
              "    [theme=dark] .colab-df-convert {\n",
              "      background-color: #3B4455;\n",
              "      fill: #D2E3FC;\n",
              "    }\n",
              "\n",
              "    [theme=dark] .colab-df-convert:hover {\n",
              "      background-color: #434B5C;\n",
              "      box-shadow: 0px 1px 3px 1px rgba(0, 0, 0, 0.15);\n",
              "      filter: drop-shadow(0px 1px 2px rgba(0, 0, 0, 0.3));\n",
              "      fill: #FFFFFF;\n",
              "    }\n",
              "  </style>\n",
              "\n",
              "      <script>\n",
              "        const buttonEl =\n",
              "          document.querySelector('#df-0db8e28b-479e-4b97-85a8-3e431e8ce030 button.colab-df-convert');\n",
              "        buttonEl.style.display =\n",
              "          google.colab.kernel.accessAllowed ? 'block' : 'none';\n",
              "\n",
              "        async function convertToInteractive(key) {\n",
              "          const element = document.querySelector('#df-0db8e28b-479e-4b97-85a8-3e431e8ce030');\n",
              "          const dataTable =\n",
              "            await google.colab.kernel.invokeFunction('convertToInteractive',\n",
              "                                                     [key], {});\n",
              "          if (!dataTable) return;\n",
              "\n",
              "          const docLinkHtml = 'Like what you see? Visit the ' +\n",
              "            '<a target=\"_blank\" href=https://colab.research.google.com/notebooks/data_table.ipynb>data table notebook</a>'\n",
              "            + ' to learn more about interactive tables.';\n",
              "          element.innerHTML = '';\n",
              "          dataTable['output_type'] = 'display_data';\n",
              "          await google.colab.output.renderOutput(dataTable, element);\n",
              "          const docLink = document.createElement('div');\n",
              "          docLink.innerHTML = docLinkHtml;\n",
              "          element.appendChild(docLink);\n",
              "        }\n",
              "      </script>\n",
              "    </div>\n",
              "  </div>\n",
              "  "
            ]
          },
          "metadata": {},
          "execution_count": 39
        }
      ]
    },
    {
      "cell_type": "code",
      "source": [
        "test['lang'].unique()"
      ],
      "metadata": {
        "colab": {
          "base_uri": "https://localhost:8080/"
        },
        "id": "tZi-5aNuzXxx",
        "outputId": "6a26133a-6ad0-4d67-8878-16c6cc48e47a"
      },
      "execution_count": null,
      "outputs": [
        {
          "output_type": "execute_result",
          "data": {
            "text/plain": [
              "array(['Bengali', 'Telugu', 'Marathi', 'Kannada', 'Hindi'], dtype=object)"
            ]
          },
          "metadata": {},
          "execution_count": 40
        }
      ]
    },
    {
      "cell_type": "code",
      "source": [
        "np.savetxt('data/yo.test', test['input'].values, fmt=\"%s\")"
      ],
      "metadata": {
        "id": "MLYTTn8ni8Uy"
      },
      "execution_count": null,
      "outputs": []
    },
    {
      "cell_type": "code",
      "source": [
        "%%bash\n",
        "\n",
        "MODEL=model/yo.bin\n",
        "TEST=data/yo.test\n",
        "RESULT=prediction/yo.test.predict\n",
        "\n",
        "./fastText/fasttext predict $MODEL $TEST > $RESULT"
      ],
      "metadata": {
        "id": "UF8aTDzojrUf"
      },
      "execution_count": null,
      "outputs": []
    },
    {
      "cell_type": "code",
      "source": [
        "%%bash\n",
        "\n",
        "RESULT=prediction/yo.test.predict\n",
        "\n",
        "echo 'top: '    && head $RESULT\n",
        "echo 'bottom: ' && tail $RESULT"
      ],
      "metadata": {
        "colab": {
          "base_uri": "https://localhost:8080/"
        },
        "id": "QqpPyFeZj4fY",
        "outputId": "6857106a-1802-48f4-d73f-681f177b8196"
      },
      "execution_count": null,
      "outputs": [
        {
          "output_type": "stream",
          "name": "stdout",
          "text": [
            "top: \n",
            "__label__Bengali\n",
            "__label__Telugu\n",
            "__label__Telugu\n",
            "__label__Telugu\n",
            "__label__Marathi\n",
            "__label__Telugu\n",
            "__label__Kannada\n",
            "__label__Hindi\n",
            "__label__Telugu\n",
            "__label__Hindi\n",
            "bottom: \n",
            "__label__Telugu\n",
            "__label__Hindi\n",
            "__label__Marathi\n",
            "__label__Marathi\n",
            "__label__Marathi\n",
            "__label__Telugu\n",
            "__label__Telugu\n",
            "__label__Hindi\n",
            "__label__Marathi\n",
            "__label__Hindi\n"
          ]
        }
      ]
    },
    {
      "cell_type": "code",
      "source": [
        "!pip install fasttext"
      ],
      "metadata": {
        "colab": {
          "base_uri": "https://localhost:8080/"
        },
        "id": "Tt-9KilxpgG4",
        "outputId": "c4033734-6f33-4663-f476-6667b0d26307"
      },
      "execution_count": null,
      "outputs": [
        {
          "output_type": "stream",
          "name": "stdout",
          "text": [
            "Looking in indexes: https://pypi.org/simple, https://us-python.pkg.dev/colab-wheels/public/simple/\n",
            "Collecting fasttext\n",
            "  Downloading fasttext-0.9.2.tar.gz (68 kB)\n",
            "\u001b[K     |████████████████████████████████| 68 kB 3.6 MB/s \n",
            "\u001b[?25hCollecting pybind11>=2.2\n",
            "  Using cached pybind11-2.10.1-py3-none-any.whl (216 kB)\n",
            "Requirement already satisfied: setuptools>=0.7.0 in /usr/local/lib/python3.7/dist-packages (from fasttext) (57.4.0)\n",
            "Requirement already satisfied: numpy in /usr/local/lib/python3.7/dist-packages (from fasttext) (1.21.6)\n",
            "Building wheels for collected packages: fasttext\n",
            "  Building wheel for fasttext (setup.py) ... \u001b[?25l\u001b[?25hdone\n",
            "  Created wheel for fasttext: filename=fasttext-0.9.2-cp37-cp37m-linux_x86_64.whl size=3158297 sha256=c51c9beeb9e45b950bd9bda31d48dd14493fbd80be48e2b039b389feba8d398b\n",
            "  Stored in directory: /root/.cache/pip/wheels/4e/ca/bf/b020d2be95f7641801a6597a29c8f4f19e38f9c02a345bab9b\n",
            "Successfully built fasttext\n",
            "Installing collected packages: pybind11, fasttext\n",
            "Successfully installed fasttext-0.9.2 pybind11-2.10.1\n"
          ]
        }
      ]
    },
    {
      "cell_type": "code",
      "source": [
        "import fasttext as ft"
      ],
      "metadata": {
        "id": "zWPZdaX9pMcF"
      },
      "execution_count": null,
      "outputs": []
    },
    {
      "cell_type": "code",
      "source": [
        "model = ft.load_model('model/yo.bin')"
      ],
      "metadata": {
        "colab": {
          "base_uri": "https://localhost:8080/"
        },
        "id": "Fts5nKVUpeKG",
        "outputId": "4d8f43a7-d700-4409-8d28-243d2c2a1fd1"
      },
      "execution_count": null,
      "outputs": [
        {
          "output_type": "stream",
          "name": "stderr",
          "text": [
            "Warning : `load_model` does not return WordVectorModel or SupervisedModel any more, but a `FastText` object which is very similar.\n"
          ]
        }
      ]
    },
    {
      "cell_type": "code",
      "source": [],
      "metadata": {
        "id": "wIMduRsFzdK-"
      },
      "execution_count": null,
      "outputs": []
    },
    {
      "cell_type": "code",
      "source": [
        "text = 'ye kaise pata challa'   #hindi\n",
        "model.predict(text)"
      ],
      "metadata": {
        "colab": {
          "base_uri": "https://localhost:8080/"
        },
        "id": "92W02FCfp6cJ",
        "outputId": "839141eb-e5d7-4d6a-cf81-a5e8a146b967"
      },
      "execution_count": null,
      "outputs": [
        {
          "output_type": "execute_result",
          "data": {
            "text/plain": [
              "(('__label__Hindi',), array([0.98336935]))"
            ]
          },
          "metadata": {},
          "execution_count": 47
        }
      ]
    },
    {
      "cell_type": "code",
      "source": [
        "text = 'eegaagale maadi '   #kannada\n",
        "model.predict(text)"
      ],
      "metadata": {
        "colab": {
          "base_uri": "https://localhost:8080/"
        },
        "id": "lwzcOJ7PqRZ8",
        "outputId": "f56217b4-7303-4b09-9335-f1b28eac25c8"
      },
      "execution_count": null,
      "outputs": [
        {
          "output_type": "execute_result",
          "data": {
            "text/plain": [
              "(('__label__Kannada',), array([0.99982899]))"
            ]
          },
          "metadata": {},
          "execution_count": 48
        }
      ]
    },
    {
      "cell_type": "code",
      "source": [
        "text = 'bhalo achhi'    #bengali\n",
        "model.predict(text)"
      ],
      "metadata": {
        "colab": {
          "base_uri": "https://localhost:8080/"
        },
        "id": "1V0JrHZpsQTl",
        "outputId": "91d47813-d20c-43e1-b216-b720321a4cfb"
      },
      "execution_count": null,
      "outputs": [
        {
          "output_type": "execute_result",
          "data": {
            "text/plain": [
              "(('__label__Bengali',), array([0.80329567]))"
            ]
          },
          "metadata": {},
          "execution_count": 49
        }
      ]
    },
    {
      "cell_type": "code",
      "source": [
        "text = 'gaav ahe'       #marathi \n",
        "model.predict(text)"
      ],
      "metadata": {
        "colab": {
          "base_uri": "https://localhost:8080/"
        },
        "id": "gh3KTRWN33J3",
        "outputId": "92093f50-d764-4c7e-a162-52a5640ee1da"
      },
      "execution_count": null,
      "outputs": [
        {
          "output_type": "execute_result",
          "data": {
            "text/plain": [
              "(('__label__Marathi',), array([0.99999487]))"
            ]
          },
          "metadata": {},
          "execution_count": 50
        }
      ]
    },
    {
      "cell_type": "code",
      "source": [
        "text = 'eppudu em cheystav neeke telidhu'\n",
        "model.predict(text)"
      ],
      "metadata": {
        "colab": {
          "base_uri": "https://localhost:8080/"
        },
        "id": "AJ_pe-8u4aJP",
        "outputId": "46ee770b-78c5-43e1-e593-9408a9abdb4d"
      },
      "execution_count": null,
      "outputs": [
        {
          "output_type": "execute_result",
          "data": {
            "text/plain": [
              "(('__label__Telugu',), array([1.0000006]))"
            ]
          },
          "metadata": {},
          "execution_count": 59
        }
      ]
    },
    {
      "cell_type": "code",
      "source": [],
      "metadata": {
        "id": "LB69TubUHgpA"
      },
      "execution_count": null,
      "outputs": []
    }
  ]
}